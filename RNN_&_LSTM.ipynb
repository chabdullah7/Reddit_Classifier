{
  "nbformat": 4,
  "nbformat_minor": 0,
  "metadata": {
    "colab": {
      "provenance": [],
      "collapsed_sections": [
        "LRa9LabZ0M4S",
        "qSg40ZyP0sNn",
        "edFbgSgY0xgj",
        "C_BhbUIF0_Tk",
        "VJxa06XR2Iln",
        "SheyGPow47WH",
        "TB18r4SO5vWj",
        "533gohom6ZgV",
        "34E-jQ7T9Nip",
        "ws7exqZ5-Eqf",
        "VU2754aS-bbk",
        "hlnz7nBoAk4i",
        "MUne0bMTGnTZ",
        "EviejHdeGrLo",
        "ho0zF3_O8upm"
      ]
    },
    "kernelspec": {
      "name": "python3",
      "display_name": "Python 3"
    },
    "language_info": {
      "name": "python"
    }
  },
  "cells": [
    {
      "cell_type": "markdown",
      "source": [
        "## Load the Dataset"
      ],
      "metadata": {
        "id": "LRa9LabZ0M4S"
      }
    },
    {
      "cell_type": "code",
      "source": [
        "import numpy as np\n",
        "import pandas as pd\n",
        "\n",
        "df = pd.read_csv('/content/reddit_posts_and_comments.csv')\n",
        "df.head(20)"
      ],
      "metadata": {
        "colab": {
          "base_uri": "https://localhost:8080/",
          "height": 0
        },
        "id": "IzjCbf3bzIUS",
        "outputId": "f8dd4009-448c-43b8-9498-a257f6cd811e"
      },
      "execution_count": 1,
      "outputs": [
        {
          "output_type": "execute_result",
          "data": {
            "text/plain": [
              "                              post_title  \\\n",
              "0             [D] - NeurIPS'2025 Reviews   \n",
              "1             [D] - NeurIPS'2025 Reviews   \n",
              "2             [D] - NeurIPS'2025 Reviews   \n",
              "3             [D] - NeurIPS'2025 Reviews   \n",
              "4             [D] - NeurIPS'2025 Reviews   \n",
              "5              [D] Self-Promotion Thread   \n",
              "6              [D] Self-Promotion Thread   \n",
              "7              [D] Self-Promotion Thread   \n",
              "8              [D] Self-Promotion Thread   \n",
              "9              [D] Self-Promotion Thread   \n",
              "10  [D] Tried of the same review pattern   \n",
              "11  [D] Tried of the same review pattern   \n",
              "12  [D] Tried of the same review pattern   \n",
              "13  [D] Tried of the same review pattern   \n",
              "14  [D] Tried of the same review pattern   \n",
              "15          [D] - NeurIPS'2025 D&B Track   \n",
              "16          [D] - NeurIPS'2025 D&B Track   \n",
              "17          [D] - NeurIPS'2025 D&B Track   \n",
              "18          [D] - NeurIPS'2025 D&B Track   \n",
              "19          [D] - NeurIPS'2025 D&B Track   \n",
              "\n",
              "                                            post_text        subreddit  \\\n",
              "0   Hey everyone,\\n\\nNeurIPS 2025 reviews should b...  MachineLearning   \n",
              "1   Hey everyone,\\n\\nNeurIPS 2025 reviews should b...  MachineLearning   \n",
              "2   Hey everyone,\\n\\nNeurIPS 2025 reviews should b...  MachineLearning   \n",
              "3   Hey everyone,\\n\\nNeurIPS 2025 reviews should b...  MachineLearning   \n",
              "4   Hey everyone,\\n\\nNeurIPS 2025 reviews should b...  MachineLearning   \n",
              "5   Please post your personal projects, startups, ...  MachineLearning   \n",
              "6   Please post your personal projects, startups, ...  MachineLearning   \n",
              "7   Please post your personal projects, startups, ...  MachineLearning   \n",
              "8   Please post your personal projects, startups, ...  MachineLearning   \n",
              "9   Please post your personal projects, startups, ...  MachineLearning   \n",
              "10  Lately, I’ve been really disappointed with the...  MachineLearning   \n",
              "11  Lately, I’ve been really disappointed with the...  MachineLearning   \n",
              "12  Lately, I’ve been really disappointed with the...  MachineLearning   \n",
              "13  Lately, I’ve been really disappointed with the...  MachineLearning   \n",
              "14  Lately, I’ve been really disappointed with the...  MachineLearning   \n",
              "15  # Hey everyone,\\n\\nI think it's a good idea to...  MachineLearning   \n",
              "16  # Hey everyone,\\n\\nI think it's a good idea to...  MachineLearning   \n",
              "17  # Hey everyone,\\n\\nI think it's a good idea to...  MachineLearning   \n",
              "18  # Hey everyone,\\n\\nI think it's a good idea to...  MachineLearning   \n",
              "19  # Hey everyone,\\n\\nI think it's a good idea to...  MachineLearning   \n",
              "\n",
              "             post_author                                           post_url  \\\n",
              "0   Proof-Marsupial-5367  https://www.reddit.com/r/MachineLearning/comme...   \n",
              "1   Proof-Marsupial-5367  https://www.reddit.com/r/MachineLearning/comme...   \n",
              "2   Proof-Marsupial-5367  https://www.reddit.com/r/MachineLearning/comme...   \n",
              "3   Proof-Marsupial-5367  https://www.reddit.com/r/MachineLearning/comme...   \n",
              "4   Proof-Marsupial-5367  https://www.reddit.com/r/MachineLearning/comme...   \n",
              "5          AutoModerator  https://www.reddit.com/r/MachineLearning/comme...   \n",
              "6          AutoModerator  https://www.reddit.com/r/MachineLearning/comme...   \n",
              "7          AutoModerator  https://www.reddit.com/r/MachineLearning/comme...   \n",
              "8          AutoModerator  https://www.reddit.com/r/MachineLearning/comme...   \n",
              "9          AutoModerator  https://www.reddit.com/r/MachineLearning/comme...   \n",
              "10             MalumaDev  https://www.reddit.com/r/MachineLearning/comme...   \n",
              "11             MalumaDev  https://www.reddit.com/r/MachineLearning/comme...   \n",
              "12             MalumaDev  https://www.reddit.com/r/MachineLearning/comme...   \n",
              "13             MalumaDev  https://www.reddit.com/r/MachineLearning/comme...   \n",
              "14             MalumaDev  https://www.reddit.com/r/MachineLearning/comme...   \n",
              "15   Some-Landscape-4763  https://www.reddit.com/r/MachineLearning/comme...   \n",
              "16   Some-Landscape-4763  https://www.reddit.com/r/MachineLearning/comme...   \n",
              "17   Some-Landscape-4763  https://www.reddit.com/r/MachineLearning/comme...   \n",
              "18   Some-Landscape-4763  https://www.reddit.com/r/MachineLearning/comme...   \n",
              "19   Some-Landscape-4763  https://www.reddit.com/r/MachineLearning/comme...   \n",
              "\n",
              "    post_upvotes  post_downvotes  comment_upvotes  comment_downvotes  \\\n",
              "0            203               0               77                  0   \n",
              "1            203               0               36                  0   \n",
              "2            203               0               63                  0   \n",
              "3            203               0               33                  0   \n",
              "4            203               0               34                  0   \n",
              "5             13               0                2                  0   \n",
              "6             13               0                2                  0   \n",
              "7             13               0                1                  0   \n",
              "8             13               0                1                  0   \n",
              "9             13               0                1                  0   \n",
              "10            71               0               38                  0   \n",
              "11            71               0               21                  0   \n",
              "12            71               0               13                  0   \n",
              "13            71               0               11                  0   \n",
              "14            71               0               10                  0   \n",
              "15            17               0                4                  0   \n",
              "16            17               0                3                  0   \n",
              "17            17               0                3                  0   \n",
              "18            17               0                3                  0   \n",
              "19            17               0                4                  0   \n",
              "\n",
              "                                         comment_text        comment_author  \n",
              "0   Friendly reminder that reviews this year are s...    ChoiceStranger2898  \n",
              "1   I had a dream recently where my upcoming avera...               popeldo  \n",
              "2   I will treat the scores as a divine interventi...        matcha-coconut  \n",
              "3   July 24, so as long as it's July 24 somewhere ...                SmolLM  \n",
              "4   Well, if you feel heart-broken, be assured tha...       Marionberry6886  \n",
              "5   # Your Creation, Your Proof. Get It Free.\\n\\nA...       Woundedhealer4u  \n",
              "6   # [A daily Chronicle of AI Innovations in July...               enoumen  \n",
              "7   I've been working on CocoIndex - super simple ...  Whole-Assignment6240  \n",
              "8   🧵 Finance Copilot – AI for your messy P&L file...   Due-Cauliflower5383  \n",
              "9   I need to chase the latest research on arXiv. ...         Used-Sock-130  \n",
              "10  Yeah, I have noticed the same things. I am now...                 qalis  \n",
              "11  It has certainly gotten worse in recent years....               st8ic88  \n",
              "12  I think authors should be able to evaluate the...           superchamci  \n",
              "13  Taking from another field into machine learnin...    No_Efficiency_1144  \n",
              "14  I also have seen this pattern with my reviews....          Fair-Ask2270  \n",
              "15                            4-4-3-2 fingers crossed   Some-Landscape-4763  \n",
              "16  Does anyone know if we are allowed to edit the...  Psychological-Cow318  \n",
              "17  5/4/3/3 with confidence 2/4/4/4 ... hoping wit...                kaitzu  \n",
              "18  [https://papercopilot.com/statistics/neurips-s...           coderpotato  \n",
              "19  5-5-3 and 4-4-4-5.\\nI read that the Datasets t...      Antique_Most7958  "
            ],
            "text/html": [
              "\n",
              "  <div id=\"df-9be7b118-ed1f-4ff6-b7e9-40d97d92e653\" class=\"colab-df-container\">\n",
              "    <div>\n",
              "<style scoped>\n",
              "    .dataframe tbody tr th:only-of-type {\n",
              "        vertical-align: middle;\n",
              "    }\n",
              "\n",
              "    .dataframe tbody tr th {\n",
              "        vertical-align: top;\n",
              "    }\n",
              "\n",
              "    .dataframe thead th {\n",
              "        text-align: right;\n",
              "    }\n",
              "</style>\n",
              "<table border=\"1\" class=\"dataframe\">\n",
              "  <thead>\n",
              "    <tr style=\"text-align: right;\">\n",
              "      <th></th>\n",
              "      <th>post_title</th>\n",
              "      <th>post_text</th>\n",
              "      <th>subreddit</th>\n",
              "      <th>post_author</th>\n",
              "      <th>post_url</th>\n",
              "      <th>post_upvotes</th>\n",
              "      <th>post_downvotes</th>\n",
              "      <th>comment_upvotes</th>\n",
              "      <th>comment_downvotes</th>\n",
              "      <th>comment_text</th>\n",
              "      <th>comment_author</th>\n",
              "    </tr>\n",
              "  </thead>\n",
              "  <tbody>\n",
              "    <tr>\n",
              "      <th>0</th>\n",
              "      <td>[D] - NeurIPS'2025 Reviews</td>\n",
              "      <td>Hey everyone,\\n\\nNeurIPS 2025 reviews should b...</td>\n",
              "      <td>MachineLearning</td>\n",
              "      <td>Proof-Marsupial-5367</td>\n",
              "      <td>https://www.reddit.com/r/MachineLearning/comme...</td>\n",
              "      <td>203</td>\n",
              "      <td>0</td>\n",
              "      <td>77</td>\n",
              "      <td>0</td>\n",
              "      <td>Friendly reminder that reviews this year are s...</td>\n",
              "      <td>ChoiceStranger2898</td>\n",
              "    </tr>\n",
              "    <tr>\n",
              "      <th>1</th>\n",
              "      <td>[D] - NeurIPS'2025 Reviews</td>\n",
              "      <td>Hey everyone,\\n\\nNeurIPS 2025 reviews should b...</td>\n",
              "      <td>MachineLearning</td>\n",
              "      <td>Proof-Marsupial-5367</td>\n",
              "      <td>https://www.reddit.com/r/MachineLearning/comme...</td>\n",
              "      <td>203</td>\n",
              "      <td>0</td>\n",
              "      <td>36</td>\n",
              "      <td>0</td>\n",
              "      <td>I had a dream recently where my upcoming avera...</td>\n",
              "      <td>popeldo</td>\n",
              "    </tr>\n",
              "    <tr>\n",
              "      <th>2</th>\n",
              "      <td>[D] - NeurIPS'2025 Reviews</td>\n",
              "      <td>Hey everyone,\\n\\nNeurIPS 2025 reviews should b...</td>\n",
              "      <td>MachineLearning</td>\n",
              "      <td>Proof-Marsupial-5367</td>\n",
              "      <td>https://www.reddit.com/r/MachineLearning/comme...</td>\n",
              "      <td>203</td>\n",
              "      <td>0</td>\n",
              "      <td>63</td>\n",
              "      <td>0</td>\n",
              "      <td>I will treat the scores as a divine interventi...</td>\n",
              "      <td>matcha-coconut</td>\n",
              "    </tr>\n",
              "    <tr>\n",
              "      <th>3</th>\n",
              "      <td>[D] - NeurIPS'2025 Reviews</td>\n",
              "      <td>Hey everyone,\\n\\nNeurIPS 2025 reviews should b...</td>\n",
              "      <td>MachineLearning</td>\n",
              "      <td>Proof-Marsupial-5367</td>\n",
              "      <td>https://www.reddit.com/r/MachineLearning/comme...</td>\n",
              "      <td>203</td>\n",
              "      <td>0</td>\n",
              "      <td>33</td>\n",
              "      <td>0</td>\n",
              "      <td>July 24, so as long as it's July 24 somewhere ...</td>\n",
              "      <td>SmolLM</td>\n",
              "    </tr>\n",
              "    <tr>\n",
              "      <th>4</th>\n",
              "      <td>[D] - NeurIPS'2025 Reviews</td>\n",
              "      <td>Hey everyone,\\n\\nNeurIPS 2025 reviews should b...</td>\n",
              "      <td>MachineLearning</td>\n",
              "      <td>Proof-Marsupial-5367</td>\n",
              "      <td>https://www.reddit.com/r/MachineLearning/comme...</td>\n",
              "      <td>203</td>\n",
              "      <td>0</td>\n",
              "      <td>34</td>\n",
              "      <td>0</td>\n",
              "      <td>Well, if you feel heart-broken, be assured tha...</td>\n",
              "      <td>Marionberry6886</td>\n",
              "    </tr>\n",
              "    <tr>\n",
              "      <th>5</th>\n",
              "      <td>[D] Self-Promotion Thread</td>\n",
              "      <td>Please post your personal projects, startups, ...</td>\n",
              "      <td>MachineLearning</td>\n",
              "      <td>AutoModerator</td>\n",
              "      <td>https://www.reddit.com/r/MachineLearning/comme...</td>\n",
              "      <td>13</td>\n",
              "      <td>0</td>\n",
              "      <td>2</td>\n",
              "      <td>0</td>\n",
              "      <td># Your Creation, Your Proof. Get It Free.\\n\\nA...</td>\n",
              "      <td>Woundedhealer4u</td>\n",
              "    </tr>\n",
              "    <tr>\n",
              "      <th>6</th>\n",
              "      <td>[D] Self-Promotion Thread</td>\n",
              "      <td>Please post your personal projects, startups, ...</td>\n",
              "      <td>MachineLearning</td>\n",
              "      <td>AutoModerator</td>\n",
              "      <td>https://www.reddit.com/r/MachineLearning/comme...</td>\n",
              "      <td>13</td>\n",
              "      <td>0</td>\n",
              "      <td>2</td>\n",
              "      <td>0</td>\n",
              "      <td># [A daily Chronicle of AI Innovations in July...</td>\n",
              "      <td>enoumen</td>\n",
              "    </tr>\n",
              "    <tr>\n",
              "      <th>7</th>\n",
              "      <td>[D] Self-Promotion Thread</td>\n",
              "      <td>Please post your personal projects, startups, ...</td>\n",
              "      <td>MachineLearning</td>\n",
              "      <td>AutoModerator</td>\n",
              "      <td>https://www.reddit.com/r/MachineLearning/comme...</td>\n",
              "      <td>13</td>\n",
              "      <td>0</td>\n",
              "      <td>1</td>\n",
              "      <td>0</td>\n",
              "      <td>I've been working on CocoIndex - super simple ...</td>\n",
              "      <td>Whole-Assignment6240</td>\n",
              "    </tr>\n",
              "    <tr>\n",
              "      <th>8</th>\n",
              "      <td>[D] Self-Promotion Thread</td>\n",
              "      <td>Please post your personal projects, startups, ...</td>\n",
              "      <td>MachineLearning</td>\n",
              "      <td>AutoModerator</td>\n",
              "      <td>https://www.reddit.com/r/MachineLearning/comme...</td>\n",
              "      <td>13</td>\n",
              "      <td>0</td>\n",
              "      <td>1</td>\n",
              "      <td>0</td>\n",
              "      <td>🧵 Finance Copilot – AI for your messy P&amp;L file...</td>\n",
              "      <td>Due-Cauliflower5383</td>\n",
              "    </tr>\n",
              "    <tr>\n",
              "      <th>9</th>\n",
              "      <td>[D] Self-Promotion Thread</td>\n",
              "      <td>Please post your personal projects, startups, ...</td>\n",
              "      <td>MachineLearning</td>\n",
              "      <td>AutoModerator</td>\n",
              "      <td>https://www.reddit.com/r/MachineLearning/comme...</td>\n",
              "      <td>13</td>\n",
              "      <td>0</td>\n",
              "      <td>1</td>\n",
              "      <td>0</td>\n",
              "      <td>I need to chase the latest research on arXiv. ...</td>\n",
              "      <td>Used-Sock-130</td>\n",
              "    </tr>\n",
              "    <tr>\n",
              "      <th>10</th>\n",
              "      <td>[D] Tried of the same review pattern</td>\n",
              "      <td>Lately, I’ve been really disappointed with the...</td>\n",
              "      <td>MachineLearning</td>\n",
              "      <td>MalumaDev</td>\n",
              "      <td>https://www.reddit.com/r/MachineLearning/comme...</td>\n",
              "      <td>71</td>\n",
              "      <td>0</td>\n",
              "      <td>38</td>\n",
              "      <td>0</td>\n",
              "      <td>Yeah, I have noticed the same things. I am now...</td>\n",
              "      <td>qalis</td>\n",
              "    </tr>\n",
              "    <tr>\n",
              "      <th>11</th>\n",
              "      <td>[D] Tried of the same review pattern</td>\n",
              "      <td>Lately, I’ve been really disappointed with the...</td>\n",
              "      <td>MachineLearning</td>\n",
              "      <td>MalumaDev</td>\n",
              "      <td>https://www.reddit.com/r/MachineLearning/comme...</td>\n",
              "      <td>71</td>\n",
              "      <td>0</td>\n",
              "      <td>21</td>\n",
              "      <td>0</td>\n",
              "      <td>It has certainly gotten worse in recent years....</td>\n",
              "      <td>st8ic88</td>\n",
              "    </tr>\n",
              "    <tr>\n",
              "      <th>12</th>\n",
              "      <td>[D] Tried of the same review pattern</td>\n",
              "      <td>Lately, I’ve been really disappointed with the...</td>\n",
              "      <td>MachineLearning</td>\n",
              "      <td>MalumaDev</td>\n",
              "      <td>https://www.reddit.com/r/MachineLearning/comme...</td>\n",
              "      <td>71</td>\n",
              "      <td>0</td>\n",
              "      <td>13</td>\n",
              "      <td>0</td>\n",
              "      <td>I think authors should be able to evaluate the...</td>\n",
              "      <td>superchamci</td>\n",
              "    </tr>\n",
              "    <tr>\n",
              "      <th>13</th>\n",
              "      <td>[D] Tried of the same review pattern</td>\n",
              "      <td>Lately, I’ve been really disappointed with the...</td>\n",
              "      <td>MachineLearning</td>\n",
              "      <td>MalumaDev</td>\n",
              "      <td>https://www.reddit.com/r/MachineLearning/comme...</td>\n",
              "      <td>71</td>\n",
              "      <td>0</td>\n",
              "      <td>11</td>\n",
              "      <td>0</td>\n",
              "      <td>Taking from another field into machine learnin...</td>\n",
              "      <td>No_Efficiency_1144</td>\n",
              "    </tr>\n",
              "    <tr>\n",
              "      <th>14</th>\n",
              "      <td>[D] Tried of the same review pattern</td>\n",
              "      <td>Lately, I’ve been really disappointed with the...</td>\n",
              "      <td>MachineLearning</td>\n",
              "      <td>MalumaDev</td>\n",
              "      <td>https://www.reddit.com/r/MachineLearning/comme...</td>\n",
              "      <td>71</td>\n",
              "      <td>0</td>\n",
              "      <td>10</td>\n",
              "      <td>0</td>\n",
              "      <td>I also have seen this pattern with my reviews....</td>\n",
              "      <td>Fair-Ask2270</td>\n",
              "    </tr>\n",
              "    <tr>\n",
              "      <th>15</th>\n",
              "      <td>[D] - NeurIPS'2025 D&amp;B Track</td>\n",
              "      <td># Hey everyone,\\n\\nI think it's a good idea to...</td>\n",
              "      <td>MachineLearning</td>\n",
              "      <td>Some-Landscape-4763</td>\n",
              "      <td>https://www.reddit.com/r/MachineLearning/comme...</td>\n",
              "      <td>17</td>\n",
              "      <td>0</td>\n",
              "      <td>4</td>\n",
              "      <td>0</td>\n",
              "      <td>4-4-3-2 fingers crossed</td>\n",
              "      <td>Some-Landscape-4763</td>\n",
              "    </tr>\n",
              "    <tr>\n",
              "      <th>16</th>\n",
              "      <td>[D] - NeurIPS'2025 D&amp;B Track</td>\n",
              "      <td># Hey everyone,\\n\\nI think it's a good idea to...</td>\n",
              "      <td>MachineLearning</td>\n",
              "      <td>Some-Landscape-4763</td>\n",
              "      <td>https://www.reddit.com/r/MachineLearning/comme...</td>\n",
              "      <td>17</td>\n",
              "      <td>0</td>\n",
              "      <td>3</td>\n",
              "      <td>0</td>\n",
              "      <td>Does anyone know if we are allowed to edit the...</td>\n",
              "      <td>Psychological-Cow318</td>\n",
              "    </tr>\n",
              "    <tr>\n",
              "      <th>17</th>\n",
              "      <td>[D] - NeurIPS'2025 D&amp;B Track</td>\n",
              "      <td># Hey everyone,\\n\\nI think it's a good idea to...</td>\n",
              "      <td>MachineLearning</td>\n",
              "      <td>Some-Landscape-4763</td>\n",
              "      <td>https://www.reddit.com/r/MachineLearning/comme...</td>\n",
              "      <td>17</td>\n",
              "      <td>0</td>\n",
              "      <td>3</td>\n",
              "      <td>0</td>\n",
              "      <td>5/4/3/3 with confidence 2/4/4/4 ... hoping wit...</td>\n",
              "      <td>kaitzu</td>\n",
              "    </tr>\n",
              "    <tr>\n",
              "      <th>18</th>\n",
              "      <td>[D] - NeurIPS'2025 D&amp;B Track</td>\n",
              "      <td># Hey everyone,\\n\\nI think it's a good idea to...</td>\n",
              "      <td>MachineLearning</td>\n",
              "      <td>Some-Landscape-4763</td>\n",
              "      <td>https://www.reddit.com/r/MachineLearning/comme...</td>\n",
              "      <td>17</td>\n",
              "      <td>0</td>\n",
              "      <td>3</td>\n",
              "      <td>0</td>\n",
              "      <td>[https://papercopilot.com/statistics/neurips-s...</td>\n",
              "      <td>coderpotato</td>\n",
              "    </tr>\n",
              "    <tr>\n",
              "      <th>19</th>\n",
              "      <td>[D] - NeurIPS'2025 D&amp;B Track</td>\n",
              "      <td># Hey everyone,\\n\\nI think it's a good idea to...</td>\n",
              "      <td>MachineLearning</td>\n",
              "      <td>Some-Landscape-4763</td>\n",
              "      <td>https://www.reddit.com/r/MachineLearning/comme...</td>\n",
              "      <td>17</td>\n",
              "      <td>0</td>\n",
              "      <td>4</td>\n",
              "      <td>0</td>\n",
              "      <td>5-5-3 and 4-4-4-5.\\nI read that the Datasets t...</td>\n",
              "      <td>Antique_Most7958</td>\n",
              "    </tr>\n",
              "  </tbody>\n",
              "</table>\n",
              "</div>\n",
              "    <div class=\"colab-df-buttons\">\n",
              "\n",
              "  <div class=\"colab-df-container\">\n",
              "    <button class=\"colab-df-convert\" onclick=\"convertToInteractive('df-9be7b118-ed1f-4ff6-b7e9-40d97d92e653')\"\n",
              "            title=\"Convert this dataframe to an interactive table.\"\n",
              "            style=\"display:none;\">\n",
              "\n",
              "  <svg xmlns=\"http://www.w3.org/2000/svg\" height=\"24px\" viewBox=\"0 -960 960 960\">\n",
              "    <path d=\"M120-120v-720h720v720H120Zm60-500h600v-160H180v160Zm220 220h160v-160H400v160Zm0 220h160v-160H400v160ZM180-400h160v-160H180v160Zm440 0h160v-160H620v160ZM180-180h160v-160H180v160Zm440 0h160v-160H620v160Z\"/>\n",
              "  </svg>\n",
              "    </button>\n",
              "\n",
              "  <style>\n",
              "    .colab-df-container {\n",
              "      display:flex;\n",
              "      gap: 12px;\n",
              "    }\n",
              "\n",
              "    .colab-df-convert {\n",
              "      background-color: #E8F0FE;\n",
              "      border: none;\n",
              "      border-radius: 50%;\n",
              "      cursor: pointer;\n",
              "      display: none;\n",
              "      fill: #1967D2;\n",
              "      height: 32px;\n",
              "      padding: 0 0 0 0;\n",
              "      width: 32px;\n",
              "    }\n",
              "\n",
              "    .colab-df-convert:hover {\n",
              "      background-color: #E2EBFA;\n",
              "      box-shadow: 0px 1px 2px rgba(60, 64, 67, 0.3), 0px 1px 3px 1px rgba(60, 64, 67, 0.15);\n",
              "      fill: #174EA6;\n",
              "    }\n",
              "\n",
              "    .colab-df-buttons div {\n",
              "      margin-bottom: 4px;\n",
              "    }\n",
              "\n",
              "    [theme=dark] .colab-df-convert {\n",
              "      background-color: #3B4455;\n",
              "      fill: #D2E3FC;\n",
              "    }\n",
              "\n",
              "    [theme=dark] .colab-df-convert:hover {\n",
              "      background-color: #434B5C;\n",
              "      box-shadow: 0px 1px 3px 1px rgba(0, 0, 0, 0.15);\n",
              "      filter: drop-shadow(0px 1px 2px rgba(0, 0, 0, 0.3));\n",
              "      fill: #FFFFFF;\n",
              "    }\n",
              "  </style>\n",
              "\n",
              "    <script>\n",
              "      const buttonEl =\n",
              "        document.querySelector('#df-9be7b118-ed1f-4ff6-b7e9-40d97d92e653 button.colab-df-convert');\n",
              "      buttonEl.style.display =\n",
              "        google.colab.kernel.accessAllowed ? 'block' : 'none';\n",
              "\n",
              "      async function convertToInteractive(key) {\n",
              "        const element = document.querySelector('#df-9be7b118-ed1f-4ff6-b7e9-40d97d92e653');\n",
              "        const dataTable =\n",
              "          await google.colab.kernel.invokeFunction('convertToInteractive',\n",
              "                                                    [key], {});\n",
              "        if (!dataTable) return;\n",
              "\n",
              "        const docLinkHtml = 'Like what you see? Visit the ' +\n",
              "          '<a target=\"_blank\" href=https://colab.research.google.com/notebooks/data_table.ipynb>data table notebook</a>'\n",
              "          + ' to learn more about interactive tables.';\n",
              "        element.innerHTML = '';\n",
              "        dataTable['output_type'] = 'display_data';\n",
              "        await google.colab.output.renderOutput(dataTable, element);\n",
              "        const docLink = document.createElement('div');\n",
              "        docLink.innerHTML = docLinkHtml;\n",
              "        element.appendChild(docLink);\n",
              "      }\n",
              "    </script>\n",
              "  </div>\n",
              "\n",
              "\n",
              "    <div id=\"df-0433c1ed-9e85-4470-b760-3b67afb2a616\">\n",
              "      <button class=\"colab-df-quickchart\" onclick=\"quickchart('df-0433c1ed-9e85-4470-b760-3b67afb2a616')\"\n",
              "                title=\"Suggest charts\"\n",
              "                style=\"display:none;\">\n",
              "\n",
              "<svg xmlns=\"http://www.w3.org/2000/svg\" height=\"24px\"viewBox=\"0 0 24 24\"\n",
              "     width=\"24px\">\n",
              "    <g>\n",
              "        <path d=\"M19 3H5c-1.1 0-2 .9-2 2v14c0 1.1.9 2 2 2h14c1.1 0 2-.9 2-2V5c0-1.1-.9-2-2-2zM9 17H7v-7h2v7zm4 0h-2V7h2v10zm4 0h-2v-4h2v4z\"/>\n",
              "    </g>\n",
              "</svg>\n",
              "      </button>\n",
              "\n",
              "<style>\n",
              "  .colab-df-quickchart {\n",
              "      --bg-color: #E8F0FE;\n",
              "      --fill-color: #1967D2;\n",
              "      --hover-bg-color: #E2EBFA;\n",
              "      --hover-fill-color: #174EA6;\n",
              "      --disabled-fill-color: #AAA;\n",
              "      --disabled-bg-color: #DDD;\n",
              "  }\n",
              "\n",
              "  [theme=dark] .colab-df-quickchart {\n",
              "      --bg-color: #3B4455;\n",
              "      --fill-color: #D2E3FC;\n",
              "      --hover-bg-color: #434B5C;\n",
              "      --hover-fill-color: #FFFFFF;\n",
              "      --disabled-bg-color: #3B4455;\n",
              "      --disabled-fill-color: #666;\n",
              "  }\n",
              "\n",
              "  .colab-df-quickchart {\n",
              "    background-color: var(--bg-color);\n",
              "    border: none;\n",
              "    border-radius: 50%;\n",
              "    cursor: pointer;\n",
              "    display: none;\n",
              "    fill: var(--fill-color);\n",
              "    height: 32px;\n",
              "    padding: 0;\n",
              "    width: 32px;\n",
              "  }\n",
              "\n",
              "  .colab-df-quickchart:hover {\n",
              "    background-color: var(--hover-bg-color);\n",
              "    box-shadow: 0 1px 2px rgba(60, 64, 67, 0.3), 0 1px 3px 1px rgba(60, 64, 67, 0.15);\n",
              "    fill: var(--button-hover-fill-color);\n",
              "  }\n",
              "\n",
              "  .colab-df-quickchart-complete:disabled,\n",
              "  .colab-df-quickchart-complete:disabled:hover {\n",
              "    background-color: var(--disabled-bg-color);\n",
              "    fill: var(--disabled-fill-color);\n",
              "    box-shadow: none;\n",
              "  }\n",
              "\n",
              "  .colab-df-spinner {\n",
              "    border: 2px solid var(--fill-color);\n",
              "    border-color: transparent;\n",
              "    border-bottom-color: var(--fill-color);\n",
              "    animation:\n",
              "      spin 1s steps(1) infinite;\n",
              "  }\n",
              "\n",
              "  @keyframes spin {\n",
              "    0% {\n",
              "      border-color: transparent;\n",
              "      border-bottom-color: var(--fill-color);\n",
              "      border-left-color: var(--fill-color);\n",
              "    }\n",
              "    20% {\n",
              "      border-color: transparent;\n",
              "      border-left-color: var(--fill-color);\n",
              "      border-top-color: var(--fill-color);\n",
              "    }\n",
              "    30% {\n",
              "      border-color: transparent;\n",
              "      border-left-color: var(--fill-color);\n",
              "      border-top-color: var(--fill-color);\n",
              "      border-right-color: var(--fill-color);\n",
              "    }\n",
              "    40% {\n",
              "      border-color: transparent;\n",
              "      border-right-color: var(--fill-color);\n",
              "      border-top-color: var(--fill-color);\n",
              "    }\n",
              "    60% {\n",
              "      border-color: transparent;\n",
              "      border-right-color: var(--fill-color);\n",
              "    }\n",
              "    80% {\n",
              "      border-color: transparent;\n",
              "      border-right-color: var(--fill-color);\n",
              "      border-bottom-color: var(--fill-color);\n",
              "    }\n",
              "    90% {\n",
              "      border-color: transparent;\n",
              "      border-bottom-color: var(--fill-color);\n",
              "    }\n",
              "  }\n",
              "</style>\n",
              "\n",
              "      <script>\n",
              "        async function quickchart(key) {\n",
              "          const quickchartButtonEl =\n",
              "            document.querySelector('#' + key + ' button');\n",
              "          quickchartButtonEl.disabled = true;  // To prevent multiple clicks.\n",
              "          quickchartButtonEl.classList.add('colab-df-spinner');\n",
              "          try {\n",
              "            const charts = await google.colab.kernel.invokeFunction(\n",
              "                'suggestCharts', [key], {});\n",
              "          } catch (error) {\n",
              "            console.error('Error during call to suggestCharts:', error);\n",
              "          }\n",
              "          quickchartButtonEl.classList.remove('colab-df-spinner');\n",
              "          quickchartButtonEl.classList.add('colab-df-quickchart-complete');\n",
              "        }\n",
              "        (() => {\n",
              "          let quickchartButtonEl =\n",
              "            document.querySelector('#df-0433c1ed-9e85-4470-b760-3b67afb2a616 button');\n",
              "          quickchartButtonEl.style.display =\n",
              "            google.colab.kernel.accessAllowed ? 'block' : 'none';\n",
              "        })();\n",
              "      </script>\n",
              "    </div>\n",
              "\n",
              "    </div>\n",
              "  </div>\n"
            ],
            "application/vnd.google.colaboratory.intrinsic+json": {
              "type": "dataframe",
              "variable_name": "df",
              "summary": "{\n  \"name\": \"df\",\n  \"rows\": 5708,\n  \"fields\": [\n    {\n      \"column\": \"post_title\",\n      \"properties\": {\n        \"dtype\": \"category\",\n        \"num_unique_values\": 1393,\n        \"samples\": [\n          \"Three months ago I woke up and decided that I needed to set a good lifestyle example for my kids\",\n          \"Being scared doesn't necessarily mean you shouldn't do it [image]\",\n          \"Everytime I'm all groomed/look great, I never seem to run into any women.\"\n        ],\n        \"semantic_type\": \"\",\n        \"description\": \"\"\n      }\n    },\n    {\n      \"column\": \"post_text\",\n      \"properties\": {\n        \"dtype\": \"category\",\n        \"num_unique_values\": 1258,\n        \"samples\": [\n          \"Hi all I'm 24, i started gambling at 19 and now it's messing with my life. Not just the money, I'm losing everything and everyone. No matter how hard I try to quit I find myself back at it again please suggest me something.\",\n          \"for context, from where i live mental illness is seen as a taboo and people have generalised anybody who's mentally ill as \\\"crazy.\\\" it's basically a synonym and an insult. i know that i shouldn't beat myself up over getting diagnosed with MDD and PTSD, that's the logical rational most utilitarian choice i can make but holy fuck i hate myself for it. the culture has deeply engrained in my psyche where i sometimes believe that i am crazy. the shame of other family members, friends, other peering eyes is nigh unavoidable. it makes me regret ever going to a shrink. how do youse manage to cope with seeing depression or any ol mental illness diagnosed to your name.\",\n          \"As the title asks, I'm wondering if anyone knows if a workshop-only registration can access the poster sessions and/or the social events? Or do I need a conference registration to access those?\\n\\nIt's surprisingly hard to find this answer on ICML official sources, but maybe I just couldn't find it. This is my first ICML, so if anyone could help answer this it would be greatly appreciated. Thanks! \"\n        ],\n        \"semantic_type\": \"\",\n        \"description\": \"\"\n      }\n    },\n    {\n      \"column\": \"subreddit\",\n      \"properties\": {\n        \"dtype\": \"category\",\n        \"num_unique_values\": 17,\n        \"samples\": [\n          \"MachineLearning\",\n          \"depression\",\n          \"povertyfinance\"\n        ],\n        \"semantic_type\": \"\",\n        \"description\": \"\"\n      }\n    },\n    {\n      \"column\": \"post_author\",\n      \"properties\": {\n        \"dtype\": \"category\",\n        \"num_unique_values\": 1281,\n        \"samples\": [\n          \"Neither-Treat-4655\",\n          \"mkpsychologylover\",\n          \"CHERWASHERE\"\n        ],\n        \"semantic_type\": \"\",\n        \"description\": \"\"\n      }\n    },\n    {\n      \"column\": \"post_url\",\n      \"properties\": {\n        \"dtype\": \"category\",\n        \"num_unique_values\": 1442,\n        \"samples\": [\n          \"https://i.redd.it/cr45wawd12cf1.jpeg\",\n          \"https://www.reddit.com/r/ADHD/comments/1m8958p/hyperfocus/\",\n          \"https://www.reddit.com/r/ADHD/comments/1m8oomk/what_if_i_get_wrongly_diagnosed/\"\n        ],\n        \"semantic_type\": \"\",\n        \"description\": \"\"\n      }\n    },\n    {\n      \"column\": \"post_upvotes\",\n      \"properties\": {\n        \"dtype\": \"number\",\n        \"std\": 545,\n        \"min\": 0,\n        \"max\": 11833,\n        \"num_unique_values\": 297,\n        \"samples\": [\n          435,\n          67,\n          1085\n        ],\n        \"semantic_type\": \"\",\n        \"description\": \"\"\n      }\n    },\n    {\n      \"column\": \"post_downvotes\",\n      \"properties\": {\n        \"dtype\": \"number\",\n        \"std\": 0,\n        \"min\": 0,\n        \"max\": 0,\n        \"num_unique_values\": 1,\n        \"samples\": [\n          0\n        ],\n        \"semantic_type\": \"\",\n        \"description\": \"\"\n      }\n    },\n    {\n      \"column\": \"comment_upvotes\",\n      \"properties\": {\n        \"dtype\": \"number\",\n        \"std\": 285,\n        \"min\": -40,\n        \"max\": 14349,\n        \"num_unique_values\": 361,\n        \"samples\": [\n          82\n        ],\n        \"semantic_type\": \"\",\n        \"description\": \"\"\n      }\n    },\n    {\n      \"column\": \"comment_downvotes\",\n      \"properties\": {\n        \"dtype\": \"number\",\n        \"std\": 0,\n        \"min\": 0,\n        \"max\": 0,\n        \"num_unique_values\": 1,\n        \"samples\": [\n          0\n        ],\n        \"semantic_type\": \"\",\n        \"description\": \"\"\n      }\n    },\n    {\n      \"column\": \"comment_text\",\n      \"properties\": {\n        \"dtype\": \"string\",\n        \"num_unique_values\": 5292,\n        \"samples\": [\n          \"Your name gives me the impression you may be around 22. Thats a hard time in life. Nevermind if you had it rough for the first 22. I'm sorry you're in the thick of it right now. I know it seems impossible, but i want you to know, it gets better. We're here for you.\"\n        ],\n        \"semantic_type\": \"\",\n        \"description\": \"\"\n      }\n    },\n    {\n      \"column\": \"comment_author\",\n      \"properties\": {\n        \"dtype\": \"string\",\n        \"num_unique_values\": 3876,\n        \"samples\": [\n          \"LoudSilence16\"\n        ],\n        \"semantic_type\": \"\",\n        \"description\": \"\"\n      }\n    }\n  ]\n}"
            }
          },
          "metadata": {},
          "execution_count": 1
        }
      ]
    },
    {
      "cell_type": "markdown",
      "source": [
        "##Select Relevant Columns"
      ],
      "metadata": {
        "id": "qSg40ZyP0sNn"
      }
    },
    {
      "cell_type": "code",
      "source": [
        "df = df[['post_text', 'subreddit']]\n",
        "\n",
        "print(\"Shape of DataFrame:\", df.shape)\n",
        "print(df.head())"
      ],
      "metadata": {
        "colab": {
          "base_uri": "https://localhost:8080/"
        },
        "id": "obFbeH5YzIWz",
        "outputId": "68358a00-4471-464d-cfa6-9a4f4f470a38"
      },
      "execution_count": 2,
      "outputs": [
        {
          "output_type": "stream",
          "name": "stdout",
          "text": [
            "Shape of DataFrame: (5708, 2)\n",
            "                                           post_text        subreddit\n",
            "0  Hey everyone,\\n\\nNeurIPS 2025 reviews should b...  MachineLearning\n",
            "1  Hey everyone,\\n\\nNeurIPS 2025 reviews should b...  MachineLearning\n",
            "2  Hey everyone,\\n\\nNeurIPS 2025 reviews should b...  MachineLearning\n",
            "3  Hey everyone,\\n\\nNeurIPS 2025 reviews should b...  MachineLearning\n",
            "4  Hey everyone,\\n\\nNeurIPS 2025 reviews should b...  MachineLearning\n"
          ]
        }
      ]
    },
    {
      "cell_type": "markdown",
      "source": [
        "##Select Subreddit Classes"
      ],
      "metadata": {
        "id": "edFbgSgY0xgj"
      }
    },
    {
      "cell_type": "code",
      "source": [
        "allowed_subreddits = ['Alzheimers', 'povertyfinance', 'GetMotivated']\n",
        "\n",
        "df = df[df['subreddit'].isin(allowed_subreddits)]\n",
        "\n",
        "df = df.reset_index(drop=True)\n",
        "\n",
        "print(\"Shape after filtering:\", df.shape)\n",
        "print(df['subreddit'].value_counts())\n"
      ],
      "metadata": {
        "colab": {
          "base_uri": "https://localhost:8080/"
        },
        "id": "gzN5FQXFzIZb",
        "outputId": "b047df9f-0914-4ee0-b99a-e07721bfab8d"
      },
      "execution_count": 3,
      "outputs": [
        {
          "output_type": "stream",
          "name": "stdout",
          "text": [
            "Shape after filtering: (1256, 2)\n",
            "subreddit\n",
            "povertyfinance    420\n",
            "Alzheimers        419\n",
            "GetMotivated      417\n",
            "Name: count, dtype: int64\n"
          ]
        }
      ]
    },
    {
      "cell_type": "markdown",
      "source": [
        "##Visualize Class Distribution\n"
      ],
      "metadata": {
        "id": "C_BhbUIF0_Tk"
      }
    },
    {
      "cell_type": "code",
      "source": [
        "import matplotlib.pyplot as plt\n",
        "import seaborn as sns\n",
        "\n",
        "sns.set(style=\"whitegrid\")\n",
        "\n",
        "\n",
        "plt.figure(figsize=(8, 5))\n",
        "sns.countplot(data=df, x='subreddit', palette='pastel')\n",
        "\n",
        "plt.title('Post Count per Subreddit Class')\n",
        "plt.xlabel('Subreddit')\n",
        "plt.ylabel('Number of Posts')\n",
        "\n",
        "plt.tight_layout()\n",
        "\n",
        "plt.show()\n"
      ],
      "metadata": {
        "colab": {
          "base_uri": "https://localhost:8080/",
          "height": 0
        },
        "id": "kyaCFoHuzIb_",
        "outputId": "ca8e8dea-7be2-44d0-80a2-6ba272fe3748"
      },
      "execution_count": 4,
      "outputs": [
        {
          "output_type": "stream",
          "name": "stderr",
          "text": [
            "/tmp/ipython-input-2700630344.py:8: FutureWarning: \n",
            "\n",
            "Passing `palette` without assigning `hue` is deprecated and will be removed in v0.14.0. Assign the `x` variable to `hue` and set `legend=False` for the same effect.\n",
            "\n",
            "  sns.countplot(data=df, x='subreddit', palette='pastel')\n"
          ]
        },
        {
          "output_type": "display_data",
          "data": {
            "text/plain": [
              "<Figure size 800x500 with 1 Axes>"
            ],
            "image/png": "[encoded data removed]"
          },
          "metadata": {}
        }
      ]
    },
    {
      "cell_type": "markdown",
      "source": [
        "##Text Preprocessing"
      ],
      "metadata": {
        "id": "0cOQyedR1pRW"
      }
    },
    {
      "cell_type": "markdown",
      "source": [
        "##Text Cleaning, Remove Stopwords, & Tokenization"
      ],
      "metadata": {
        "id": "VJxa06XR2Iln"
      }
    },
    {
      "cell_type": "code",
      "source": [
        "pip install clean-text nltk"
      ],
      "metadata": {
        "colab": {
          "base_uri": "https://localhost:8080/"
        },
        "id": "tIOpP7V4zIee",
        "outputId": "bf05015a-004e-426f-f0df-afd0a873e988"
      },
      "execution_count": 5,
      "outputs": [
        {
          "output_type": "stream",
          "name": "stdout",
          "text": [
            "Requirement already satisfied: clean-text in /usr/local/lib/python3.11/dist-packages (0.6.0)\n",
            "Requirement already satisfied: nltk in /usr/local/lib/python3.11/dist-packages (3.9.1)\n",
            "Requirement already satisfied: emoji<2.0.0,>=1.0.0 in /usr/local/lib/python3.11/dist-packages (from clean-text) (1.7.0)\n",
            "Requirement already satisfied: ftfy<7.0,>=6.0 in /usr/local/lib/python3.11/dist-packages (from clean-text) (6.3.1)\n",
            "Requirement already satisfied: click in /usr/local/lib/python3.11/dist-packages (from nltk) (8.2.1)\n",
            "Requirement already satisfied: joblib in /usr/local/lib/python3.11/dist-packages (from nltk) (1.5.1)\n",
            "Requirement already satisfied: regex>=2021.8.3 in /usr/local/lib/python3.11/dist-packages (from nltk) (2024.11.6)\n",
            "Requirement already satisfied: tqdm in /usr/local/lib/python3.11/dist-packages (from nltk) (4.67.1)\n",
            "Requirement already satisfied: wcwidth in /usr/local/lib/python3.11/dist-packages (from ftfy<7.0,>=6.0->clean-text) (0.2.13)\n"
          ]
        }
      ]
    },
    {
      "cell_type": "code",
      "source": [
        "from cleantext import clean\n",
        "import nltk\n",
        "nltk.download('punkt')\n",
        "nltk.download('punkt_tab')\n",
        "nltk.download('stopwords')\n",
        "from nltk.corpus import stopwords\n",
        "from nltk.tokenize import word_tokenize\n",
        "import string\n",
        "\n",
        "#Download required NLTK data\n",
        "nltk.download('punkt')\n",
        "nltk.download('stopwords')\n",
        "\n",
        "#Stopwords\n",
        "stop_words = set(stopwords.words('english'))\n",
        "\n",
        "#Text Cleaning\n",
        "def preprocess_text(text):\n",
        "\n",
        "    text = clean(text,\n",
        "                 fix_unicode=True,\n",
        "                 to_ascii=True,\n",
        "                 lower=True,\n",
        "                 no_urls=True,\n",
        "                 no_emails=True,\n",
        "                 no_phone_numbers=True,\n",
        "                 no_currency_symbols=True,\n",
        "                 no_punct=True,\n",
        "                 replace_with_punct=\"\",\n",
        "                 replace_with_url=\"\",\n",
        "                 replace_with_email=\"\",\n",
        "                 replace_with_phone_number=\"\",\n",
        "                 replace_with_currency_symbol=\"\"\n",
        "                 )\n",
        "\n",
        "    #Tokenize\n",
        "    tokens = word_tokenize(text)\n",
        "\n",
        "    #Remove stopwords\n",
        "    filtered_tokens = [word for word in tokens if word not in stop_words and word not in string.punctuation]\n",
        "\n",
        "    return filtered_tokens\n",
        "\n",
        "#Apply to post_text column\n",
        "df['clean_tokens'] = df['post_text'].astype(str).apply(preprocess_text)\n",
        "\n",
        "\n",
        "print(df[['post_text', 'clean_tokens']].head())\n"
      ],
      "metadata": {
        "colab": {
          "base_uri": "https://localhost:8080/"
        },
        "id": "ElJHsGAqzIg3",
        "outputId": "db9ed5d4-1fc0-4abf-ff73-40bcc70e1273"
      },
      "execution_count": 6,
      "outputs": [
        {
          "output_type": "stream",
          "name": "stderr",
          "text": [
            "WARNING:root:Since the GPL-licensed package `unidecode` is not installed, using Python's `unicodedata` package which yields worse results.\n",
            "[nltk_data] Downloading package punkt to /root/nltk_data...\n",
            "[nltk_data]   Package punkt is already up-to-date!\n",
            "[nltk_data] Downloading package punkt_tab to /root/nltk_data...\n",
            "[nltk_data]   Package punkt_tab is already up-to-date!\n",
            "[nltk_data] Downloading package stopwords to /root/nltk_data...\n",
            "[nltk_data]   Package stopwords is already up-to-date!\n",
            "[nltk_data] Downloading package punkt to /root/nltk_data...\n",
            "[nltk_data]   Package punkt is already up-to-date!\n",
            "[nltk_data] Downloading package stopwords to /root/nltk_data...\n",
            "[nltk_data]   Package stopwords is already up-to-date!\n"
          ]
        },
        {
          "output_type": "stream",
          "name": "stdout",
          "text": [
            "                                           post_text  \\\n",
            "0  Two years ago I posted the following message o...   \n",
            "1  Two years ago I posted the following message o...   \n",
            "2  Two years ago I posted the following message o...   \n",
            "3  Two years ago I posted the following message o...   \n",
            "4  Two years ago I posted the following message o...   \n",
            "\n",
            "                                        clean_tokens  \n",
            "0  [two, years, ago, posted, following, message, ...  \n",
            "1  [two, years, ago, posted, following, message, ...  \n",
            "2  [two, years, ago, posted, following, message, ...  \n",
            "3  [two, years, ago, posted, following, message, ...  \n",
            "4  [two, years, ago, posted, following, message, ...  \n"
          ]
        }
      ]
    },
    {
      "cell_type": "code",
      "source": [
        "cleaned_tokens = preprocess_text(\"You are stronger than you think. Never give up — every failure is a step toward success!\")\n",
        "cleaned_tokens\n"
      ],
      "metadata": {
        "colab": {
          "base_uri": "https://localhost:8080/"
        },
        "id": "5PJzUGgjzIjU",
        "outputId": "edd8f823-2c29-4c59-e892-90e1e2da6736"
      },
      "execution_count": 7,
      "outputs": [
        {
          "output_type": "execute_result",
          "data": {
            "text/plain": [
              "['stronger',\n",
              " 'think',\n",
              " 'never',\n",
              " 'give',\n",
              " 'every',\n",
              " 'failure',\n",
              " 'step',\n",
              " 'toward',\n",
              " 'success']"
            ]
          },
          "metadata": {},
          "execution_count": 7
        }
      ]
    },
    {
      "cell_type": "markdown",
      "source": [
        "##Label Encoding"
      ],
      "metadata": {
        "id": "SheyGPow47WH"
      }
    },
    {
      "cell_type": "code",
      "source": [
        "from sklearn.preprocessing import LabelEncoder\n",
        "\n",
        "label_encoder = LabelEncoder()\n",
        "\n",
        "df['label'] = label_encoder.fit_transform(df['subreddit'])\n",
        "\n",
        "\n",
        "print(df[['subreddit', 'label']].head())"
      ],
      "metadata": {
        "colab": {
          "base_uri": "https://localhost:8080/"
        },
        "id": "o7S2Fi7NzIlr",
        "outputId": "5fea8f3e-0701-49a5-94bc-4d08810198dd"
      },
      "execution_count": 8,
      "outputs": [
        {
          "output_type": "stream",
          "name": "stdout",
          "text": [
            "        subreddit  label\n",
            "0  povertyfinance      2\n",
            "1  povertyfinance      2\n",
            "2  povertyfinance      2\n",
            "3  povertyfinance      2\n",
            "4  povertyfinance      2\n"
          ]
        }
      ]
    },
    {
      "cell_type": "code",
      "source": [
        "df"
      ],
      "metadata": {
        "colab": {
          "base_uri": "https://localhost:8080/",
          "height": 0
        },
        "id": "GR8Odolc5cle",
        "outputId": "88ba4815-d4fa-4d51-d163-9b6cc1e43a7d"
      },
      "execution_count": 9,
      "outputs": [
        {
          "output_type": "execute_result",
          "data": {
            "text/plain": [
              "                                              post_text       subreddit  \\\n",
              "0     Two years ago I posted the following message o...  povertyfinance   \n",
              "1     Two years ago I posted the following message o...  povertyfinance   \n",
              "2     Two years ago I posted the following message o...  povertyfinance   \n",
              "3     Two years ago I posted the following message o...  povertyfinance   \n",
              "4     Two years ago I posted the following message o...  povertyfinance   \n",
              "...                                                 ...             ...   \n",
              "1251  Hello everyone! I will try to keep this short ...      Alzheimers   \n",
              "1252  Hello everyone! I will try to keep this short ...      Alzheimers   \n",
              "1253  Hello everyone! I will try to keep this short ...      Alzheimers   \n",
              "1254  Hello everyone! I will try to keep this short ...      Alzheimers   \n",
              "1255  Hello everyone! I will try to keep this short ...      Alzheimers   \n",
              "\n",
              "                                           clean_tokens  label  \n",
              "0     [two, years, ago, posted, following, message, ...      2  \n",
              "1     [two, years, ago, posted, following, message, ...      2  \n",
              "2     [two, years, ago, posted, following, message, ...      2  \n",
              "3     [two, years, ago, posted, following, message, ...      2  \n",
              "4     [two, years, ago, posted, following, message, ...      2  \n",
              "...                                                 ...    ...  \n",
              "1251  [hello, everyone, try, keep, short, sweet, wel...      0  \n",
              "1252  [hello, everyone, try, keep, short, sweet, wel...      0  \n",
              "1253  [hello, everyone, try, keep, short, sweet, wel...      0  \n",
              "1254  [hello, everyone, try, keep, short, sweet, wel...      0  \n",
              "1255  [hello, everyone, try, keep, short, sweet, wel...      0  \n",
              "\n",
              "[1256 rows x 4 columns]"
            ],
            "text/html": [
              "\n",
              "  <div id=\"df-1ec3d143-ac30-4887-afd3-aeee51507ab6\" class=\"colab-df-container\">\n",
              "    <div>\n",
              "<style scoped>\n",
              "    .dataframe tbody tr th:only-of-type {\n",
              "        vertical-align: middle;\n",
              "    }\n",
              "\n",
              "    .dataframe tbody tr th {\n",
              "        vertical-align: top;\n",
              "    }\n",
              "\n",
              "    .dataframe thead th {\n",
              "        text-align: right;\n",
              "    }\n",
              "</style>\n",
              "<table border=\"1\" class=\"dataframe\">\n",
              "  <thead>\n",
              "    <tr style=\"text-align: right;\">\n",
              "      <th></th>\n",
              "      <th>post_text</th>\n",
              "      <th>subreddit</th>\n",
              "      <th>clean_tokens</th>\n",
              "      <th>label</th>\n",
              "    </tr>\n",
              "  </thead>\n",
              "  <tbody>\n",
              "    <tr>\n",
              "      <th>0</th>\n",
              "      <td>Two years ago I posted the following message o...</td>\n",
              "      <td>povertyfinance</td>\n",
              "      <td>[two, years, ago, posted, following, message, ...</td>\n",
              "      <td>2</td>\n",
              "    </tr>\n",
              "    <tr>\n",
              "      <th>1</th>\n",
              "      <td>Two years ago I posted the following message o...</td>\n",
              "      <td>povertyfinance</td>\n",
              "      <td>[two, years, ago, posted, following, message, ...</td>\n",
              "      <td>2</td>\n",
              "    </tr>\n",
              "    <tr>\n",
              "      <th>2</th>\n",
              "      <td>Two years ago I posted the following message o...</td>\n",
              "      <td>povertyfinance</td>\n",
              "      <td>[two, years, ago, posted, following, message, ...</td>\n",
              "      <td>2</td>\n",
              "    </tr>\n",
              "    <tr>\n",
              "      <th>3</th>\n",
              "      <td>Two years ago I posted the following message o...</td>\n",
              "      <td>povertyfinance</td>\n",
              "      <td>[two, years, ago, posted, following, message, ...</td>\n",
              "      <td>2</td>\n",
              "    </tr>\n",
              "    <tr>\n",
              "      <th>4</th>\n",
              "      <td>Two years ago I posted the following message o...</td>\n",
              "      <td>povertyfinance</td>\n",
              "      <td>[two, years, ago, posted, following, message, ...</td>\n",
              "      <td>2</td>\n",
              "    </tr>\n",
              "    <tr>\n",
              "      <th>...</th>\n",
              "      <td>...</td>\n",
              "      <td>...</td>\n",
              "      <td>...</td>\n",
              "      <td>...</td>\n",
              "    </tr>\n",
              "    <tr>\n",
              "      <th>1251</th>\n",
              "      <td>Hello everyone! I will try to keep this short ...</td>\n",
              "      <td>Alzheimers</td>\n",
              "      <td>[hello, everyone, try, keep, short, sweet, wel...</td>\n",
              "      <td>0</td>\n",
              "    </tr>\n",
              "    <tr>\n",
              "      <th>1252</th>\n",
              "      <td>Hello everyone! I will try to keep this short ...</td>\n",
              "      <td>Alzheimers</td>\n",
              "      <td>[hello, everyone, try, keep, short, sweet, wel...</td>\n",
              "      <td>0</td>\n",
              "    </tr>\n",
              "    <tr>\n",
              "      <th>1253</th>\n",
              "      <td>Hello everyone! I will try to keep this short ...</td>\n",
              "      <td>Alzheimers</td>\n",
              "      <td>[hello, everyone, try, keep, short, sweet, wel...</td>\n",
              "      <td>0</td>\n",
              "    </tr>\n",
              "    <tr>\n",
              "      <th>1254</th>\n",
              "      <td>Hello everyone! I will try to keep this short ...</td>\n",
              "      <td>Alzheimers</td>\n",
              "      <td>[hello, everyone, try, keep, short, sweet, wel...</td>\n",
              "      <td>0</td>\n",
              "    </tr>\n",
              "    <tr>\n",
              "      <th>1255</th>\n",
              "      <td>Hello everyone! I will try to keep this short ...</td>\n",
              "      <td>Alzheimers</td>\n",
              "      <td>[hello, everyone, try, keep, short, sweet, wel...</td>\n",
              "      <td>0</td>\n",
              "    </tr>\n",
              "  </tbody>\n",
              "</table>\n",
              "<p>1256 rows × 4 columns</p>\n",
              "</div>\n",
              "    <div class=\"colab-df-buttons\">\n",
              "\n",
              "  <div class=\"colab-df-container\">\n",
              "    <button class=\"colab-df-convert\" onclick=\"convertToInteractive('df-1ec3d143-ac30-4887-afd3-aeee51507ab6')\"\n",
              "            title=\"Convert this dataframe to an interactive table.\"\n",
              "            style=\"display:none;\">\n",
              "\n",
              "  <svg xmlns=\"http://www.w3.org/2000/svg\" height=\"24px\" viewBox=\"0 -960 960 960\">\n",
              "    <path d=\"M120-120v-720h720v720H120Zm60-500h600v-160H180v160Zm220 220h160v-160H400v160Zm0 220h160v-160H400v160ZM180-400h160v-160H180v160Zm440 0h160v-160H620v160ZM180-180h160v-160H180v160Zm440 0h160v-160H620v160Z\"/>\n",
              "  </svg>\n",
              "    </button>\n",
              "\n",
              "  <style>\n",
              "    .colab-df-container {\n",
              "      display:flex;\n",
              "      gap: 12px;\n",
              "    }\n",
              "\n",
              "    .colab-df-convert {\n",
              "      background-color: #E8F0FE;\n",
              "      border: none;\n",
              "      border-radius: 50%;\n",
              "      cursor: pointer;\n",
              "      display: none;\n",
              "      fill: #1967D2;\n",
              "      height: 32px;\n",
              "      padding: 0 0 0 0;\n",
              "      width: 32px;\n",
              "    }\n",
              "\n",
              "    .colab-df-convert:hover {\n",
              "      background-color: #E2EBFA;\n",
              "      box-shadow: 0px 1px 2px rgba(60, 64, 67, 0.3), 0px 1px 3px 1px rgba(60, 64, 67, 0.15);\n",
              "      fill: #174EA6;\n",
              "    }\n",
              "\n",
              "    .colab-df-buttons div {\n",
              "      margin-bottom: 4px;\n",
              "    }\n",
              "\n",
              "    [theme=dark] .colab-df-convert {\n",
              "      background-color: #3B4455;\n",
              "      fill: #D2E3FC;\n",
              "    }\n",
              "\n",
              "    [theme=dark] .colab-df-convert:hover {\n",
              "      background-color: #434B5C;\n",
              "      box-shadow: 0px 1px 3px 1px rgba(0, 0, 0, 0.15);\n",
              "      filter: drop-shadow(0px 1px 2px rgba(0, 0, 0, 0.3));\n",
              "      fill: #FFFFFF;\n",
              "    }\n",
              "  </style>\n",
              "\n",
              "    <script>\n",
              "      const buttonEl =\n",
              "        document.querySelector('#df-1ec3d143-ac30-4887-afd3-aeee51507ab6 button.colab-df-convert');\n",
              "      buttonEl.style.display =\n",
              "        google.colab.kernel.accessAllowed ? 'block' : 'none';\n",
              "\n",
              "      async function convertToInteractive(key) {\n",
              "        const element = document.querySelector('#df-1ec3d143-ac30-4887-afd3-aeee51507ab6');\n",
              "        const dataTable =\n",
              "          await google.colab.kernel.invokeFunction('convertToInteractive',\n",
              "                                                    [key], {});\n",
              "        if (!dataTable) return;\n",
              "\n",
              "        const docLinkHtml = 'Like what you see? Visit the ' +\n",
              "          '<a target=\"_blank\" href=https://colab.research.google.com/notebooks/data_table.ipynb>data table notebook</a>'\n",
              "          + ' to learn more about interactive tables.';\n",
              "        element.innerHTML = '';\n",
              "        dataTable['output_type'] = 'display_data';\n",
              "        await google.colab.output.renderOutput(dataTable, element);\n",
              "        const docLink = document.createElement('div');\n",
              "        docLink.innerHTML = docLinkHtml;\n",
              "        element.appendChild(docLink);\n",
              "      }\n",
              "    </script>\n",
              "  </div>\n",
              "\n",
              "\n",
              "    <div id=\"df-11198165-f48f-4a22-ae78-57d929379981\">\n",
              "      <button class=\"colab-df-quickchart\" onclick=\"quickchart('df-11198165-f48f-4a22-ae78-57d929379981')\"\n",
              "                title=\"Suggest charts\"\n",
              "                style=\"display:none;\">\n",
              "\n",
              "<svg xmlns=\"http://www.w3.org/2000/svg\" height=\"24px\"viewBox=\"0 0 24 24\"\n",
              "     width=\"24px\">\n",
              "    <g>\n",
              "        <path d=\"M19 3H5c-1.1 0-2 .9-2 2v14c0 1.1.9 2 2 2h14c1.1 0 2-.9 2-2V5c0-1.1-.9-2-2-2zM9 17H7v-7h2v7zm4 0h-2V7h2v10zm4 0h-2v-4h2v4z\"/>\n",
              "    </g>\n",
              "</svg>\n",
              "      </button>\n",
              "\n",
              "<style>\n",
              "  .colab-df-quickchart {\n",
              "      --bg-color: #E8F0FE;\n",
              "      --fill-color: #1967D2;\n",
              "      --hover-bg-color: #E2EBFA;\n",
              "      --hover-fill-color: #174EA6;\n",
              "      --disabled-fill-color: #AAA;\n",
              "      --disabled-bg-color: #DDD;\n",
              "  }\n",
              "\n",
              "  [theme=dark] .colab-df-quickchart {\n",
              "      --bg-color: #3B4455;\n",
              "      --fill-color: #D2E3FC;\n",
              "      --hover-bg-color: #434B5C;\n",
              "      --hover-fill-color: #FFFFFF;\n",
              "      --disabled-bg-color: #3B4455;\n",
              "      --disabled-fill-color: #666;\n",
              "  }\n",
              "\n",
              "  .colab-df-quickchart {\n",
              "    background-color: var(--bg-color);\n",
              "    border: none;\n",
              "    border-radius: 50%;\n",
              "    cursor: pointer;\n",
              "    display: none;\n",
              "    fill: var(--fill-color);\n",
              "    height: 32px;\n",
              "    padding: 0;\n",
              "    width: 32px;\n",
              "  }\n",
              "\n",
              "  .colab-df-quickchart:hover {\n",
              "    background-color: var(--hover-bg-color);\n",
              "    box-shadow: 0 1px 2px rgba(60, 64, 67, 0.3), 0 1px 3px 1px rgba(60, 64, 67, 0.15);\n",
              "    fill: var(--button-hover-fill-color);\n",
              "  }\n",
              "\n",
              "  .colab-df-quickchart-complete:disabled,\n",
              "  .colab-df-quickchart-complete:disabled:hover {\n",
              "    background-color: var(--disabled-bg-color);\n",
              "    fill: var(--disabled-fill-color);\n",
              "    box-shadow: none;\n",
              "  }\n",
              "\n",
              "  .colab-df-spinner {\n",
              "    border: 2px solid var(--fill-color);\n",
              "    border-color: transparent;\n",
              "    border-bottom-color: var(--fill-color);\n",
              "    animation:\n",
              "      spin 1s steps(1) infinite;\n",
              "  }\n",
              "\n",
              "  @keyframes spin {\n",
              "    0% {\n",
              "      border-color: transparent;\n",
              "      border-bottom-color: var(--fill-color);\n",
              "      border-left-color: var(--fill-color);\n",
              "    }\n",
              "    20% {\n",
              "      border-color: transparent;\n",
              "      border-left-color: var(--fill-color);\n",
              "      border-top-color: var(--fill-color);\n",
              "    }\n",
              "    30% {\n",
              "      border-color: transparent;\n",
              "      border-left-color: var(--fill-color);\n",
              "      border-top-color: var(--fill-color);\n",
              "      border-right-color: var(--fill-color);\n",
              "    }\n",
              "    40% {\n",
              "      border-color: transparent;\n",
              "      border-right-color: var(--fill-color);\n",
              "      border-top-color: var(--fill-color);\n",
              "    }\n",
              "    60% {\n",
              "      border-color: transparent;\n",
              "      border-right-color: var(--fill-color);\n",
              "    }\n",
              "    80% {\n",
              "      border-color: transparent;\n",
              "      border-right-color: var(--fill-color);\n",
              "      border-bottom-color: var(--fill-color);\n",
              "    }\n",
              "    90% {\n",
              "      border-color: transparent;\n",
              "      border-bottom-color: var(--fill-color);\n",
              "    }\n",
              "  }\n",
              "</style>\n",
              "\n",
              "      <script>\n",
              "        async function quickchart(key) {\n",
              "          const quickchartButtonEl =\n",
              "            document.querySelector('#' + key + ' button');\n",
              "          quickchartButtonEl.disabled = true;  // To prevent multiple clicks.\n",
              "          quickchartButtonEl.classList.add('colab-df-spinner');\n",
              "          try {\n",
              "            const charts = await google.colab.kernel.invokeFunction(\n",
              "                'suggestCharts', [key], {});\n",
              "          } catch (error) {\n",
              "            console.error('Error during call to suggestCharts:', error);\n",
              "          }\n",
              "          quickchartButtonEl.classList.remove('colab-df-spinner');\n",
              "          quickchartButtonEl.classList.add('colab-df-quickchart-complete');\n",
              "        }\n",
              "        (() => {\n",
              "          let quickchartButtonEl =\n",
              "            document.querySelector('#df-11198165-f48f-4a22-ae78-57d929379981 button');\n",
              "          quickchartButtonEl.style.display =\n",
              "            google.colab.kernel.accessAllowed ? 'block' : 'none';\n",
              "        })();\n",
              "      </script>\n",
              "    </div>\n",
              "\n",
              "  <div id=\"id_3f68c83d-dd53-465e-8a6b-24909c2cb568\">\n",
              "    <style>\n",
              "      .colab-df-generate {\n",
              "        background-color: #E8F0FE;\n",
              "        border: none;\n",
              "        border-radius: 50%;\n",
              "        cursor: pointer;\n",
              "        display: none;\n",
              "        fill: #1967D2;\n",
              "        height: 32px;\n",
              "        padding: 0 0 0 0;\n",
              "        width: 32px;\n",
              "      }\n",
              "\n",
              "      .colab-df-generate:hover {\n",
              "        background-color: #E2EBFA;\n",
              "        box-shadow: 0px 1px 2px rgba(60, 64, 67, 0.3), 0px 1px 3px 1px rgba(60, 64, 67, 0.15);\n",
              "        fill: #174EA6;\n",
              "      }\n",
              "\n",
              "      [theme=dark] .colab-df-generate {\n",
              "        background-color: #3B4455;\n",
              "        fill: #D2E3FC;\n",
              "      }\n",
              "\n",
              "      [theme=dark] .colab-df-generate:hover {\n",
              "        background-color: #434B5C;\n",
              "        box-shadow: 0px 1px 3px 1px rgba(0, 0, 0, 0.15);\n",
              "        filter: drop-shadow(0px 1px 2px rgba(0, 0, 0, 0.3));\n",
              "        fill: #FFFFFF;\n",
              "      }\n",
              "    </style>\n",
              "    <button class=\"colab-df-generate\" onclick=\"generateWithVariable('df')\"\n",
              "            title=\"Generate code using this dataframe.\"\n",
              "            style=\"display:none;\">\n",
              "\n",
              "  <svg xmlns=\"http://www.w3.org/2000/svg\" height=\"24px\"viewBox=\"0 0 24 24\"\n",
              "       width=\"24px\">\n",
              "    <path d=\"M7,19H8.4L18.45,9,17,7.55,7,17.6ZM5,21V16.75L18.45,3.32a2,2,0,0,1,2.83,0l1.4,1.43a1.91,1.91,0,0,1,.58,1.4,1.91,1.91,0,0,1-.58,1.4L9.25,21ZM18.45,9,17,7.55Zm-12,3A5.31,5.31,0,0,0,4.9,8.1,5.31,5.31,0,0,0,1,6.5,5.31,5.31,0,0,0,4.9,4.9,5.31,5.31,0,0,0,6.5,1,5.31,5.31,0,0,0,8.1,4.9,5.31,5.31,0,0,0,12,6.5,5.46,5.46,0,0,0,6.5,12Z\"/>\n",
              "  </svg>\n",
              "    </button>\n",
              "    <script>\n",
              "      (() => {\n",
              "      const buttonEl =\n",
              "        document.querySelector('#id_3f68c83d-dd53-465e-8a6b-24909c2cb568 button.colab-df-generate');\n",
              "      buttonEl.style.display =\n",
              "        google.colab.kernel.accessAllowed ? 'block' : 'none';\n",
              "\n",
              "      buttonEl.onclick = () => {\n",
              "        google.colab.notebook.generateWithVariable('df');\n",
              "      }\n",
              "      })();\n",
              "    </script>\n",
              "  </div>\n",
              "\n",
              "    </div>\n",
              "  </div>\n"
            ],
            "application/vnd.google.colaboratory.intrinsic+json": {
              "type": "dataframe",
              "variable_name": "df",
              "summary": "{\n  \"name\": \"df\",\n  \"rows\": 1256,\n  \"fields\": [\n    {\n      \"column\": \"post_text\",\n      \"properties\": {\n        \"dtype\": \"category\",\n        \"num_unique_values\": 239,\n        \"samples\": [\n          \"So I was rear ended in Feb of 2024, my lawyer called today and said he was able to settle and I will be receiving about 20k in pain and suffering damages. Because of the accident we had to take out a loan for a car and bought a 2024 Toyota Corolla. At the time the loan was 27k 640/month. We aggressively paid down the loan over the last year and half so now it's 13k. We refinanced and got a lower interest rate and payment is now 315/month. We are currently sharing the vehicle to get ourselves to work, myself to college and our daughter to preschool. My question is, would it be better to use the money to pay off the loan and use the rest as down payment for another car or use it all to buy a 2nd car cash?\\n\\nI would like to get a used RAV4 or Nissan Rogue but any that I look at are 25k with 30000 miles. \",\n          \"How would you make the most of it?\",\n          \"I\\u2019ve realized that small changes in thinking, like focusing on progress instead of perfection, can make a huge difference in daily life. Have you had a mental shift or positive thought that helped you handle challenges better or feel more motivated?\"\n        ],\n        \"semantic_type\": \"\",\n        \"description\": \"\"\n      }\n    },\n    {\n      \"column\": \"subreddit\",\n      \"properties\": {\n        \"dtype\": \"category\",\n        \"num_unique_values\": 3,\n        \"samples\": [\n          \"povertyfinance\",\n          \"GetMotivated\",\n          \"Alzheimers\"\n        ],\n        \"semantic_type\": \"\",\n        \"description\": \"\"\n      }\n    },\n    {\n      \"column\": \"clean_tokens\",\n      \"properties\": {\n        \"dtype\": \"object\",\n        \"semantic_type\": \"\",\n        \"description\": \"\"\n      }\n    },\n    {\n      \"column\": \"label\",\n      \"properties\": {\n        \"dtype\": \"number\",\n        \"std\": 0,\n        \"min\": 0,\n        \"max\": 2,\n        \"num_unique_values\": 3,\n        \"samples\": [\n          2,\n          1,\n          0\n        ],\n        \"semantic_type\": \"\",\n        \"description\": \"\"\n      }\n    }\n  ]\n}"
            }
          },
          "metadata": {},
          "execution_count": 9
        }
      ]
    },
    {
      "cell_type": "markdown",
      "source": [
        "##Vectorization"
      ],
      "metadata": {
        "id": "a5D_sICB5W8H"
      }
    },
    {
      "cell_type": "markdown",
      "source": [
        "##TF-IDF"
      ],
      "metadata": {
        "id": "TB18r4SO5vWj"
      }
    },
    {
      "cell_type": "code",
      "source": [
        "from sklearn.feature_extraction.text import TfidfVectorizer\n",
        "\n",
        "\n",
        "df['clean_text'] = df['clean_tokens'].apply(lambda tokens: ' '.join(tokens))\n",
        "\n",
        "tfidf = TfidfVectorizer(max_features=5000)\n",
        "\n",
        "\n",
        "X_tfidf = tfidf.fit_transform(df['clean_text'])\n",
        "\n",
        "print(\"TF-IDF Matrix Shape:\", X_tfidf.shape)\n"
      ],
      "metadata": {
        "colab": {
          "base_uri": "https://localhost:8080/"
        },
        "id": "2OgAZlXTzIoQ",
        "outputId": "fa2ab8fb-236f-4d86-a225-fc9506667d69"
      },
      "execution_count": 10,
      "outputs": [
        {
          "output_type": "stream",
          "name": "stdout",
          "text": [
            "TF-IDF Matrix Shape: (1256, 5000)\n"
          ]
        }
      ]
    },
    {
      "cell_type": "markdown",
      "source": [
        "##Word2Vec"
      ],
      "metadata": {
        "id": "533gohom6ZgV"
      }
    },
    {
      "cell_type": "code",
      "source": [
        "pip install gensim"
      ],
      "metadata": {
        "colab": {
          "base_uri": "https://localhost:8080/"
        },
        "id": "e2nraU8_zIq3",
        "outputId": "5ab818b9-beeb-4012-a166-5c2cf0f95174"
      },
      "execution_count": 11,
      "outputs": [
        {
          "output_type": "stream",
          "name": "stdout",
          "text": [
            "Requirement already satisfied: gensim in /usr/local/lib/python3.11/dist-packages (4.3.3)\n",
            "Requirement already satisfied: numpy<2.0,>=1.18.5 in /usr/local/lib/python3.11/dist-packages (from gensim) (1.26.4)\n",
            "Requirement already satisfied: scipy<1.14.0,>=1.7.0 in /usr/local/lib/python3.11/dist-packages (from gensim) (1.13.1)\n",
            "Requirement already satisfied: smart-open>=1.8.1 in /usr/local/lib/python3.11/dist-packages (from gensim) (7.3.0.post1)\n",
            "Requirement already satisfied: wrapt in /usr/local/lib/python3.11/dist-packages (from smart-open>=1.8.1->gensim) (1.17.2)\n"
          ]
        }
      ]
    },
    {
      "cell_type": "code",
      "source": [
        "from gensim.models import Word2Vec\n",
        "from tensorflow.keras.preprocessing.text import Tokenizer\n",
        "from tensorflow.keras.preprocessing.sequence import pad_sequences\n",
        "import numpy as np"
      ],
      "metadata": {
        "id": "6MQn_q_IzItk"
      },
      "execution_count": 12,
      "outputs": []
    },
    {
      "cell_type": "code",
      "source": [
        "#Train Word2Vec\n",
        "\n",
        "w2v_model = Word2Vec(sentences=df['clean_tokens'], vector_size=77, window=7, min_count=1, workers=5)\n",
        "\n",
        "embedding_dim = w2v_model.vector_size"
      ],
      "metadata": {
        "id": "iCldSZ_ezIwM"
      },
      "execution_count": 13,
      "outputs": []
    },
    {
      "cell_type": "code",
      "source": [
        "#Create Word Index using Tokenizer\n",
        "tokenizer = Tokenizer()\n",
        "tokenizer.fit_on_texts(df['clean_tokens'])\n",
        "\n",
        "sequences = tokenizer.texts_to_sequences(df['clean_tokens'])\n",
        "\n",
        "vocab_size = len(tokenizer.word_index) + 1\n",
        "print(\"Vocabulary Size:\", vocab_size)"
      ],
      "metadata": {
        "colab": {
          "base_uri": "https://localhost:8080/"
        },
        "id": "9HMxiPZjzI1s",
        "outputId": "9aff8d3d-b274-46d8-9b9d-0a99802ddfb0"
      },
      "execution_count": 14,
      "outputs": [
        {
          "output_type": "stream",
          "name": "stdout",
          "text": [
            "Vocabulary Size: 5979\n"
          ]
        }
      ]
    },
    {
      "cell_type": "code",
      "source": [
        "#Pad the sequences\n",
        "from tensorflow.keras.preprocessing.sequence import pad_sequences\n",
        "\n",
        "maxlen = 75\n",
        "X_seq = pad_sequences(sequences, maxlen=maxlen, padding='post')"
      ],
      "metadata": {
        "id": "LY5hu6ADzI4c"
      },
      "execution_count": 15,
      "outputs": []
    },
    {
      "cell_type": "code",
      "source": [
        "print(\"Original:\", sequences[1])\n",
        "print(\"Padded:\", X_seq[1])"
      ],
      "metadata": {
        "colab": {
          "base_uri": "https://localhost:8080/"
        },
        "id": "P4-aGy9DKkjY",
        "outputId": "72ab3e75-e7e1-408c-8528-b20570a15635"
      },
      "execution_count": 16,
      "outputs": [
        {
          "output_type": "stream",
          "name": "stdout",
          "text": [
            "Original: [90, 20, 111, 532, 1051, 1326, 1052, 160, 1053, 750, 27, 807, 1327, 712, 1775, 250, 58, 1328, 1054, 1776, 334, 237, 260, 1777, 29, 1055, 2725, 1778, 1056, 243, 19, 93, 543, 104, 2726, 2727, 1779, 2728, 1055, 2729, 137, 362, 47, 436, 2730, 2731, 57, 2732, 1329, 544, 174, 1327, 2733, 285, 1778, 2734, 41, 1055, 1711, 2735, 1329, 2736, 2737, 504, 2738, 2739, 4, 256, 1056, 1780, 750, 27, 4, 1781, 13, 1056, 2740, 265, 27, 220, 29, 164, 1782, 5, 2741, 1646, 27, 2742, 737, 69, 1783, 27, 639, 2743, 135, 1190, 1330, 55, 593, 2744, 265, 1784, 372, 681, 1331, 45, 91, 1331, 1327, 67, 42, 2745, 34, 37, 244, 865, 216, 206, 1332, 2746, 1331, 28, 2747, 1332, 216, 1056, 1333, 120, 2748, 261, 639, 1057, 1055, 4, 2402, 206, 751, 350, 170, 16, 2749, 1332, 42, 27, 24, 516, 505, 1334, 640, 67, 1335, 593, 2750, 2751, 70, 387, 3, 693, 2752, 59, 516, 1785, 2753, 1786, 517, 1336, 59, 1058, 593, 192, 2754, 2755, 132, 461, 25, 86, 71, 532, 97, 422, 86, 2610, 2756, 573, 320, 68, 14, 1059, 1589, 2757, 752, 320, 1337, 2758, 7, 1787, 2759, 751, 2760, 195, 21, 713, 2761, 1326, 1788, 1647, 462, 1060, 132, 27, 172, 102, 2762, 750, 27, 1338, 86, 594, 714, 2763, 715, 1262, 2764, 750, 2765, 161, 641, 1335, 461, 143, 1263, 1339, 2766, 1052, 2767, 712, 2768, 1329, 61, 59, 516, 86, 34, 69, 1334, 210, 172, 86, 878, 30, 86, 34, 750, 1334, 129, 3, 642, 2769, 866, 298, 2770, 397, 4, 639, 211]\n",
            "Padded: [ 752  320 1337 2758    7 1787 2759  751 2760  195   21  713 2761 1326\n",
            " 1788 1647  462 1060  132   27  172  102 2762  750   27 1338   86  594\n",
            "  714 2763  715 1262 2764  750 2765  161  641 1335  461  143 1263 1339\n",
            " 2766 1052 2767  712 2768 1329   61   59  516   86   34   69 1334  210\n",
            "  172   86  878   30   86   34  750 1334  129    3  642 2769  866  298\n",
            " 2770  397    4  639  211]\n"
          ]
        }
      ]
    },
    {
      "cell_type": "code",
      "source": [
        "#Embedding Matrix\n",
        "embedding_matrix = np.zeros((vocab_size, embedding_dim))\n",
        "\n",
        "for word, idx in tokenizer.word_index.items():\n",
        "    if word in w2v_model.wv:\n",
        "        embedding_matrix[idx] = w2v_model.wv[word]"
      ],
      "metadata": {
        "id": "d1MBM4aZzI7E"
      },
      "execution_count": 17,
      "outputs": []
    },
    {
      "cell_type": "code",
      "source": [
        "#Embedding Vector for word finance\n",
        "word = 'finance'\n",
        "if word in w2v_model.wv:\n",
        "    print(f\"Embedding vector for '{word}':\\n\", w2v_model.wv[word])\n",
        "else:\n",
        "    print(f\"'{word}' not found in vocab.\")\n"
      ],
      "metadata": {
        "colab": {
          "base_uri": "https://localhost:8080/"
        },
        "id": "C2IKoHBIzJDW",
        "outputId": "206a0965-51a6-4d6a-a8e4-cab2b05ce02d"
      },
      "execution_count": 18,
      "outputs": [
        {
          "output_type": "stream",
          "name": "stdout",
          "text": [
            "Embedding vector for 'finance':\n",
            " [ 0.01640831  0.00219703 -0.00924684 -0.00051995  0.00524127 -0.01251659\n",
            " -0.00146536 -0.01118017  0.01560557 -0.00699945  0.01212521  0.01163151\n",
            " -0.00554122  0.01370015 -0.00456735 -0.01507047 -0.00364862 -0.00620186\n",
            " -0.00547724 -0.007319   -0.01653562  0.0062901  -0.00769353 -0.00611156\n",
            " -0.0098087   0.01011994  0.00752469 -0.00193887 -0.00109277 -0.00132659\n",
            " -0.00507468  0.00716763 -0.00249068  0.00026615 -0.00685409 -0.00683156\n",
            " -0.00724503  0.0052756  -0.0062282   0.01742051 -0.00078006 -0.009508\n",
            " -0.00051547 -0.00528923  0.00961807  0.00701195  0.00389526 -0.00260215\n",
            "  0.0151155  -0.0112946   0.00847435 -0.00184977 -0.01087169  0.00535313\n",
            "  0.01125289  0.0146576  -0.01017706  0.01078991  0.00135853 -0.01986548\n",
            " -0.00306702 -0.00583805  0.00858769 -0.0109171   0.01492798 -0.00204221\n",
            " -0.0021817   0.00172787  0.00405961  0.00808792  0.00031403  0.00682291\n",
            " -0.00528838 -0.00887902  0.01070243  0.00231718 -0.00077206]\n"
          ]
        }
      ]
    },
    {
      "cell_type": "code",
      "source": [
        "#Embedding Matrix for an index (1st word)\n",
        "index = 1\n",
        "print(f\"Embedding vector from embedding_matrix for index {index}:\\n\", embedding_matrix[index])\n"
      ],
      "metadata": {
        "colab": {
          "base_uri": "https://localhost:8080/"
        },
        "id": "vrKLFEADzJF0",
        "outputId": "d748eab7-f5b4-45cf-e83e-2137c4d831de"
      },
      "execution_count": 19,
      "outputs": [
        {
          "output_type": "stream",
          "name": "stdout",
          "text": [
            "Embedding vector from embedding_matrix for index 1:\n",
            " [-0.64122856  0.22891977  0.61218911 -1.11599398  0.79354805  0.03387818\n",
            "  1.10653138  0.71104717 -0.525796   -0.21786588  0.43475494 -0.85807127\n",
            " -0.05970793  0.10820962  1.13620901  0.92792445 -0.55006081  0.08729704\n",
            "  0.98360831  0.37689778  0.80093122 -0.50923604 -0.24017115  0.96107298\n",
            "  0.34756243 -0.54202867 -0.25209525 -0.34591046 -0.52726209 -0.22488232\n",
            " -0.98359489 -0.40564656  0.36134368  0.76691699  0.03082436 -0.32625246\n",
            "  1.22848153 -0.19601375 -0.31726065 -1.21924484 -0.83678746 -0.75675786\n",
            " -1.04725659 -0.99410439 -0.58476925  0.5180608   0.12724784  1.06259596\n",
            " -0.14489195  0.18845807 -0.20068409 -0.69126296 -0.18936768 -0.18888956\n",
            " -0.44081569 -0.69935727 -0.05674208  0.11353314  0.50528151  1.38719451\n",
            " -0.21127383  0.07296522 -0.152622    0.84946483 -0.624358   -0.4061524\n",
            " -0.98098129  0.16213295 -0.52818251  0.87266707 -0.37747243 -0.32672948\n",
            " -0.06385903  0.57112187 -0.19251622  1.0788703  -1.40410304]\n"
          ]
        }
      ]
    },
    {
      "cell_type": "markdown",
      "source": [
        "##Model Building"
      ],
      "metadata": {
        "id": "lYMwfPc-9FnV"
      }
    },
    {
      "cell_type": "markdown",
      "source": [
        "##Split the Dataset"
      ],
      "metadata": {
        "id": "34E-jQ7T9Nip"
      }
    },
    {
      "cell_type": "code",
      "source": [
        "from sklearn.model_selection import train_test_split\n",
        "\n",
        "\n",
        "X = X_seq\n",
        "y = df['label'].values\n",
        "\n",
        "X_train, X_test, y_train, y_test = train_test_split(\n",
        "    X, y, test_size=0.2, random_state=42, stratify=y)\n",
        "\n",
        "#Shapes\n",
        "print(\"Train shape:\", X_train.shape)\n",
        "print(\"Test shape:\", X_test.shape)\n"
      ],
      "metadata": {
        "colab": {
          "base_uri": "https://localhost:8080/"
        },
        "id": "IPz6ifgqzJIr",
        "outputId": "52828de4-015e-4e15-8771-0b4cf09705c6"
      },
      "execution_count": 20,
      "outputs": [
        {
          "output_type": "stream",
          "name": "stdout",
          "text": [
            "Train shape: (1004, 75)\n",
            "Test shape: (252, 75)\n"
          ]
        }
      ]
    },
    {
      "cell_type": "markdown",
      "source": [
        "##Build and Train the Models"
      ],
      "metadata": {
        "id": "IQDxTick9pjz"
      }
    },
    {
      "cell_type": "markdown",
      "source": [
        "##Logistic Regression using TF-IDF"
      ],
      "metadata": {
        "id": "ws7exqZ5-Eqf"
      }
    },
    {
      "cell_type": "code",
      "source": [
        "from sklearn.linear_model import LogisticRegression\n",
        "from sklearn.model_selection import train_test_split\n",
        "from sklearn.metrics import classification_report, accuracy_score\n",
        "\n",
        "#TF-IDF input and labels\n",
        "X = X_tfidf\n",
        "y = df['label']\n",
        "\n",
        "#Spliting\n",
        "X_train_tfidf, X_test_tfidf, y_train_tfidf, y_test_tfidf = train_test_split(\n",
        "    X, y, test_size=0.2, random_state=42, stratify=y)\n",
        "\n",
        "#Train model\n",
        "log_reg = LogisticRegression(max_iter=1000)\n",
        "log_reg.fit(X_train_tfidf, y_train_tfidf)\n",
        "\n",
        "#Evaluation\n",
        "y_pred_tfidf = log_reg.predict(X_test_tfidf)\n",
        "\n",
        "#Metrics\n",
        "print(\"Logistic Regression via TF-IDF:\\n\")\n",
        "print(\"Accuracy:\", accuracy_score(y_test_tfidf, y_pred_tfidf))\n",
        "print(classification_report(y_test_tfidf, y_pred_tfidf, target_names=label_encoder.classes_))\n"
      ],
      "metadata": {
        "colab": {
          "base_uri": "https://localhost:8080/"
        },
        "id": "Oa3mrURdzJLN",
        "outputId": "110ebfba-7c94-4e84-ed6d-62c8949d5388"
      },
      "execution_count": 21,
      "outputs": [
        {
          "output_type": "stream",
          "name": "stdout",
          "text": [
            "Logistic Regression via TF-IDF:\n",
            "\n",
            "Accuracy: 0.9325396825396826\n",
            "                precision    recall  f1-score   support\n",
            "\n",
            "    Alzheimers       1.00      0.95      0.98        84\n",
            "  GetMotivated       0.83      1.00      0.91        84\n",
            "povertyfinance       1.00      0.85      0.92        84\n",
            "\n",
            "      accuracy                           0.93       252\n",
            "     macro avg       0.94      0.93      0.93       252\n",
            "  weighted avg       0.94      0.93      0.93       252\n",
            "\n"
          ]
        }
      ]
    },
    {
      "cell_type": "markdown",
      "source": [
        "##RNN"
      ],
      "metadata": {
        "id": "VU2754aS-bbk"
      }
    },
    {
      "cell_type": "code",
      "source": [
        "from tensorflow.keras.models import Sequential\n",
        "from tensorflow.keras.layers import Embedding, SimpleRNN, Dense\n",
        "from tensorflow.keras.callbacks import EarlyStopping\n",
        "from tensorflow.keras.optimizers import Adam\n",
        "from tensorflow.keras.utils import to_categorical\n",
        "from sklearn.metrics import classification_report\n",
        "\n",
        "\n",
        "#One Hot Encoder\n",
        "y_train_cat = to_categorical(y_train, num_classes=3)\n",
        "y_test_cat = to_categorical(y_test, num_classes=3)\n",
        "\n",
        "#EarlyStopping\n",
        "early_stop = EarlyStopping(monitor='val_loss', patience=3, restore_best_weights=True)\n",
        "\n",
        "#RNN Model\n",
        "rnn_model = Sequential()\n",
        "rnn_model.add(Embedding(input_dim=vocab_size,\n",
        "                        output_dim=embedding_dim,\n",
        "                        weights=[embedding_matrix],\n",
        "                        input_length=X_train.shape[1],\n",
        "                        trainable=True))\n",
        "rnn_model.add(SimpleRNN(64, return_sequences=False))\n",
        "rnn_model.add(Dense(3, activation='softmax'))\n",
        "\n",
        "#Compiling\n",
        "rnn_model.compile(loss='categorical_crossentropy',\n",
        "                  optimizer=Adam(learning_rate=0.001),\n",
        "                  metrics=['accuracy'])\n",
        "\n",
        "#Training\n",
        "rnn = rnn_model.fit(\n",
        "    X_train, y_train_cat,\n",
        "    validation_data=(X_test, y_test_cat),\n",
        "    epochs=30,\n",
        "    batch_size=32,\n",
        "    callbacks=[early_stop],\n",
        "    verbose=1\n",
        ")\n",
        "\n",
        "#Evaluating\n",
        "loss, accuracy = rnn_model.evaluate(X_test, y_test_cat, verbose=0)\n",
        "print(f\"\\nRNN Accuracy: {accuracy:.4f}\")\n",
        "\n",
        "#Prediction\n",
        "y_pred_probs = rnn_model.predict(X_test)\n",
        "y_pred_classes = np.argmax(y_pred_probs, axis=1)\n",
        "\n",
        "print(\"\\nRNN Report:\")\n",
        "print(classification_report(y_test, y_pred_classes, target_names=label_encoder.classes_))\n"
      ],
      "metadata": {
        "colab": {
          "base_uri": "https://localhost:8080/"
        },
        "id": "HD7KUckMzJN1",
        "outputId": "8dbc3404-b7a5-4136-c181-7280a16ce49b"
      },
      "execution_count": 22,
      "outputs": [
        {
          "output_type": "stream",
          "name": "stderr",
          "text": [
            "/usr/local/lib/python3.11/dist-packages/keras/src/layers/core/embedding.py:90: UserWarning: Argument `input_length` is deprecated. Just remove it.\n",
            "  warnings.warn(\n"
          ]
        },
        {
          "output_type": "stream",
          "name": "stdout",
          "text": [
            "Epoch 1/30\n",
            "\u001b[1m32/32\u001b[0m \u001b[32m━━━━━━━━━━━━━━━━━━━━\u001b[0m\u001b[37m\u001b[0m \u001b[1m9s\u001b[0m 90ms/step - accuracy: 0.4153 - loss: 1.0992 - val_accuracy: 0.6151 - val_loss: 0.9317\n",
            "Epoch 2/30\n",
            "\u001b[1m32/32\u001b[0m \u001b[32m━━━━━━━━━━━━━━━━━━━━\u001b[0m\u001b[37m\u001b[0m \u001b[1m2s\u001b[0m 54ms/step - accuracy: 0.7080 - loss: 0.8394 - val_accuracy: 0.7897 - val_loss: 0.5544\n",
            "Epoch 3/30\n",
            "\u001b[1m32/32\u001b[0m \u001b[32m━━━━━━━━━━━━━━━━━━━━\u001b[0m\u001b[37m\u001b[0m \u001b[1m2s\u001b[0m 59ms/step - accuracy: 0.9012 - loss: 0.3580 - val_accuracy: 0.9127 - val_loss: 0.2551\n",
            "Epoch 4/30\n",
            "\u001b[1m32/32\u001b[0m \u001b[32m━━━━━━━━━━━━━━━━━━━━\u001b[0m\u001b[37m\u001b[0m \u001b[1m4s\u001b[0m 89ms/step - accuracy: 0.9514 - loss: 0.1928 - val_accuracy: 0.9127 - val_loss: 0.2382\n",
            "Epoch 5/30\n",
            "\u001b[1m32/32\u001b[0m \u001b[32m━━━━━━━━━━━━━━━━━━━━\u001b[0m\u001b[37m\u001b[0m \u001b[1m4s\u001b[0m 63ms/step - accuracy: 0.9435 - loss: 0.1501 - val_accuracy: 0.9127 - val_loss: 0.2046\n",
            "Epoch 6/30\n",
            "\u001b[1m32/32\u001b[0m \u001b[32m━━━━━━━━━━━━━━━━━━━━\u001b[0m\u001b[37m\u001b[0m \u001b[1m3s\u001b[0m 67ms/step - accuracy: 0.9651 - loss: 0.1147 - val_accuracy: 0.9127 - val_loss: 0.2343\n",
            "Epoch 7/30\n",
            "\u001b[1m32/32\u001b[0m \u001b[32m━━━━━━━━━━━━━━━━━━━━\u001b[0m\u001b[37m\u001b[0m \u001b[1m2s\u001b[0m 59ms/step - accuracy: 0.9562 - loss: 0.1470 - val_accuracy: 0.9127 - val_loss: 0.2178\n",
            "Epoch 8/30\n",
            "\u001b[1m32/32\u001b[0m \u001b[32m━━━━━━━━━━━━━━━━━━━━\u001b[0m\u001b[37m\u001b[0m \u001b[1m2s\u001b[0m 39ms/step - accuracy: 0.9674 - loss: 0.1116 - val_accuracy: 0.9127 - val_loss: 0.2299\n",
            "\n",
            "RNN Accuracy: 0.9127\n",
            "\u001b[1m8/8\u001b[0m \u001b[32m━━━━━━━━━━━━━━━━━━━━\u001b[0m\u001b[37m\u001b[0m \u001b[1m1s\u001b[0m 47ms/step\n",
            "\n",
            "RNN Report:\n",
            "                precision    recall  f1-score   support\n",
            "\n",
            "    Alzheimers       1.00      0.89      0.94        84\n",
            "  GetMotivated       0.79      1.00      0.88        84\n",
            "povertyfinance       1.00      0.85      0.92        84\n",
            "\n",
            "      accuracy                           0.91       252\n",
            "     macro avg       0.93      0.91      0.91       252\n",
            "  weighted avg       0.93      0.91      0.91       252\n",
            "\n"
          ]
        }
      ]
    },
    {
      "cell_type": "markdown",
      "source": [
        "##LSTM"
      ],
      "metadata": {
        "id": "hlnz7nBoAk4i"
      }
    },
    {
      "cell_type": "code",
      "source": [
        "from tensorflow.keras.layers import Embedding, LSTM, Dense\n",
        "\n",
        "#One Hot Encoder\n",
        "y_train_cat = to_categorical(y_train, num_classes=3)\n",
        "y_test_cat = to_categorical(y_test, num_classes=3)\n",
        "\n",
        "#EarlyStopping\n",
        "early_stop = EarlyStopping(monitor='val_loss', patience=3, restore_best_weights=True)\n",
        "\n",
        "#LSTM Model\n",
        "lstm_model = Sequential()\n",
        "lstm_model.add(Embedding(input_dim=vocab_size,\n",
        "                    output_dim=embedding_dim,\n",
        "                    weights=[embedding_matrix],\n",
        "                    input_length=X_train.shape[1],\n",
        "                    trainable=True))\n",
        "lstm_model.add(LSTM(150, return_sequences=True))\n",
        "lstm_model.add(LSTM(150))\n",
        "lstm_model.add(Dense(3, activation='softmax'))\n",
        "\n",
        "#Compiling\n",
        "lstm_model.compile(loss='categorical_crossentropy',\n",
        "                   optimizer=Adam(learning_rate=0.001),\n",
        "                   metrics=['accuracy'])\n",
        "\n",
        "#Training\n",
        "lstm = lstm_model.fit(\n",
        "    X_train, y_train_cat,\n",
        "    validation_data=(X_test, y_test_cat),\n",
        "    epochs=30,\n",
        "    batch_size=32,\n",
        "    callbacks=[early_stop],\n",
        "    verbose=1\n",
        ")\n",
        "\n",
        "#Evaluating\n",
        "loss, accuracy = lstm_model.evaluate(X_test, y_test_cat, verbose=0)\n",
        "print(f\"\\nLSTM Accuracy: {accuracy:.4f}\")\n",
        "\n",
        "#Prediction\n",
        "y_pred_probs = lstm_model.predict(X_test)\n",
        "y_pred_classes = np.argmax(y_pred_probs, axis=1)\n",
        "\n",
        "#Report\n",
        "print(\"\\nLSTM Report:\")\n",
        "print(classification_report(y_test, y_pred_classes, target_names=label_encoder.classes_))\n"
      ],
      "metadata": {
        "colab": {
          "base_uri": "https://localhost:8080/"
        },
        "id": "QG3iOh-7zJQZ",
        "outputId": "ebab670e-a8e7-4ef0-f9e1-b87f550a48c8"
      },
      "execution_count": 28,
      "outputs": [
        {
          "output_type": "stream",
          "name": "stdout",
          "text": [
            "Epoch 1/30\n"
          ]
        },
        {
          "output_type": "stream",
          "name": "stderr",
          "text": [
            "/usr/local/lib/python3.11/dist-packages/keras/src/layers/core/embedding.py:90: UserWarning: Argument `input_length` is deprecated. Just remove it.\n",
            "  warnings.warn(\n"
          ]
        },
        {
          "output_type": "stream",
          "name": "stdout",
          "text": [
            "\u001b[1m32/32\u001b[0m \u001b[32m━━━━━━━━━━━━━━━━━━━━\u001b[0m\u001b[37m\u001b[0m \u001b[1m15s\u001b[0m 284ms/step - accuracy: 0.3520 - loss: 1.1108 - val_accuracy: 0.4127 - val_loss: 1.0749\n",
            "Epoch 2/30\n",
            "\u001b[1m32/32\u001b[0m \u001b[32m━━━━━━━━━━━━━━━━━━━━\u001b[0m\u001b[37m\u001b[0m \u001b[1m10s\u001b[0m 285ms/step - accuracy: 0.4204 - loss: 1.0667 - val_accuracy: 0.4048 - val_loss: 1.0495\n",
            "Epoch 3/30\n",
            "\u001b[1m32/32\u001b[0m \u001b[32m━━━━━━━━━━━━━━━━━━━━\u001b[0m\u001b[37m\u001b[0m \u001b[1m10s\u001b[0m 314ms/step - accuracy: 0.4768 - loss: 1.0323 - val_accuracy: 0.4405 - val_loss: 0.9694\n",
            "Epoch 4/30\n",
            "\u001b[1m32/32\u001b[0m \u001b[32m━━━━━━━━━━━━━━━━━━━━\u001b[0m\u001b[37m\u001b[0m \u001b[1m11s\u001b[0m 329ms/step - accuracy: 0.6283 - loss: 0.7399 - val_accuracy: 0.7579 - val_loss: 0.5435\n",
            "Epoch 5/30\n",
            "\u001b[1m32/32\u001b[0m \u001b[32m━━━━━━━━━━━━━━━━━━━━\u001b[0m\u001b[37m\u001b[0m \u001b[1m19s\u001b[0m 268ms/step - accuracy: 0.7533 - loss: 0.4757 - val_accuracy: 0.6944 - val_loss: 0.6648\n",
            "Epoch 6/30\n",
            "\u001b[1m32/32\u001b[0m \u001b[32m━━━━━━━━━━━━━━━━━━━━\u001b[0m\u001b[37m\u001b[0m \u001b[1m11s\u001b[0m 291ms/step - accuracy: 0.7525 - loss: 0.5325 - val_accuracy: 0.7500 - val_loss: 0.4886\n",
            "Epoch 7/30\n",
            "\u001b[1m32/32\u001b[0m \u001b[32m━━━━━━━━━━━━━━━━━━━━\u001b[0m\u001b[37m\u001b[0m \u001b[1m11s\u001b[0m 331ms/step - accuracy: 0.8790 - loss: 0.3116 - val_accuracy: 0.8929 - val_loss: 0.3547\n",
            "Epoch 8/30\n",
            "\u001b[1m32/32\u001b[0m \u001b[32m━━━━━━━━━━━━━━━━━━━━\u001b[0m\u001b[37m\u001b[0m \u001b[1m20s\u001b[0m 326ms/step - accuracy: 0.9513 - loss: 0.1393 - val_accuracy: 0.9008 - val_loss: 0.2319\n",
            "Epoch 9/30\n",
            "\u001b[1m32/32\u001b[0m \u001b[32m━━━━━━━━━━━━━━━━━━━━\u001b[0m\u001b[37m\u001b[0m \u001b[1m19s\u001b[0m 273ms/step - accuracy: 0.9646 - loss: 0.1037 - val_accuracy: 0.9048 - val_loss: 0.2548\n",
            "Epoch 10/30\n",
            "\u001b[1m32/32\u001b[0m \u001b[32m━━━━━━━━━━━━━━━━━━━━\u001b[0m\u001b[37m\u001b[0m \u001b[1m10s\u001b[0m 328ms/step - accuracy: 0.9555 - loss: 0.1104 - val_accuracy: 0.9048 - val_loss: 0.2602\n",
            "Epoch 11/30\n",
            "\u001b[1m32/32\u001b[0m \u001b[32m━━━━━━━━━━━━━━━━━━━━\u001b[0m\u001b[37m\u001b[0m \u001b[1m20s\u001b[0m 323ms/step - accuracy: 0.9673 - loss: 0.0828 - val_accuracy: 0.9206 - val_loss: 0.2571\n",
            "\n",
            "LSTM Accuracy: 0.9008\n"
          ]
        },
        {
          "output_type": "stream",
          "name": "stderr",
          "text": [
            "WARNING:tensorflow:5 out of the last 17 calls to <function TensorFlowTrainer.make_predict_function.<locals>.one_step_on_data_distributed at 0x7aef1aad4fe0> triggered tf.function retracing. Tracing is expensive and the excessive number of tracings could be due to (1) creating @tf.function repeatedly in a loop, (2) passing tensors with different shapes, (3) passing Python objects instead of tensors. For (1), please define your @tf.function outside of the loop. For (2), @tf.function has reduce_retracing=True option that can avoid unnecessary retracing. For (3), please refer to https://www.tensorflow.org/guide/function#controlling_retracing and https://www.tensorflow.org/api_docs/python/tf/function for  more details.\n"
          ]
        },
        {
          "output_type": "stream",
          "name": "stdout",
          "text": [
            "\u001b[1m8/8\u001b[0m \u001b[32m━━━━━━━━━━━━━━━━━━━━\u001b[0m\u001b[37m\u001b[0m \u001b[1m1s\u001b[0m 137ms/step\n",
            "\n",
            "LSTM Report:\n",
            "                precision    recall  f1-score   support\n",
            "\n",
            "    Alzheimers       0.96      0.95      0.96        84\n",
            "  GetMotivated       0.79      1.00      0.88        84\n",
            "povertyfinance       1.00      0.75      0.86        84\n",
            "\n",
            "      accuracy                           0.90       252\n",
            "     macro avg       0.92      0.90      0.90       252\n",
            "  weighted avg       0.92      0.90      0.90       252\n",
            "\n"
          ]
        }
      ]
    },
    {
      "cell_type": "markdown",
      "source": [
        "##Final Prediction"
      ],
      "metadata": {
        "id": "MUne0bMTGnTZ"
      }
    },
    {
      "cell_type": "code",
      "source": [
        "import numpy as np\n",
        "import pickle\n",
        "from keras.models import load_model\n",
        "from tensorflow.keras.preprocessing.sequence import pad_sequences\n",
        "from cleantext import clean\n",
        "from nltk.tokenize import word_tokenize\n",
        "from nltk.corpus import stopwords\n",
        "import string\n",
        "\n",
        "#Load tokenizer, label encoder, and model\n",
        "with open('tokenizer.pkl', 'rb') as f:\n",
        "    tokenizer = pickle.load(f)\n",
        "\n",
        "with open('label_encoder.pkl', 'rb') as f:\n",
        "    label_encoder = pickle.load(f)\n",
        "\n",
        "model = load_model('/content/lstm_model.h5')\n",
        "\n",
        "#Constants\n",
        "MAXLEN = 75\n",
        "stop_words = set(stopwords.words('english'))\n",
        "\n",
        "#Text preprocessing\n",
        "def preprocess_text(text):\n",
        "    text = clean(\n",
        "        text,\n",
        "        fix_unicode=True,\n",
        "        to_ascii=True,\n",
        "        lower=True,\n",
        "        no_urls=True,\n",
        "        no_emails=True,\n",
        "        no_phone_numbers=True,\n",
        "        no_currency_symbols=True,\n",
        "        no_punct=True\n",
        "    )\n",
        "    tokens = word_tokenize(text)\n",
        "    filtered_tokens = [word for word in tokens if word not in stop_words and word not in string.punctuation]\n",
        "    return filtered_tokens\n",
        "\n",
        "#Final Prediction\n",
        "def predict_subreddit(text):\n",
        "    tokens = preprocess_text(text)\n",
        "    sequence = tokenizer.texts_to_sequences([tokens])\n",
        "    padded = pad_sequences(sequence, maxlen=MAXLEN, padding='post')\n",
        "    pred = model.predict(padded)\n",
        "    pred_class = np.argmax(pred, axis=1)\n",
        "    label = label_encoder.inverse_transform(pred_class)[0]\n",
        "    return label\n"
      ],
      "metadata": {
        "colab": {
          "base_uri": "https://localhost:8080/"
        },
        "id": "C0kAfifiExTX",
        "outputId": "17b95fc5-75d8-4bfc-f02b-e8dbe81f7116"
      },
      "execution_count": 32,
      "outputs": [
        {
          "output_type": "stream",
          "name": "stderr",
          "text": [
            "WARNING:absl:Compiled the loaded model, but the compiled metrics have yet to be built. `model.compile_metrics` will be empty until you train or evaluate the model.\n"
          ]
        }
      ]
    },
    {
      "cell_type": "code",
      "source": [
        "text = \"I feel really discouraged lately, looking for some motivation.\"\n",
        "predicted_label = predict_subreddit(text)\n",
        "print(\"Predicted Subreddit:\", predicted_label)\n"
      ],
      "metadata": {
        "colab": {
          "base_uri": "https://localhost:8080/"
        },
        "id": "E3y88YmDE-qe",
        "outputId": "e3a11b0f-8c5e-42bd-9bbf-8a93922df1b9"
      },
      "execution_count": 34,
      "outputs": [
        {
          "output_type": "stream",
          "name": "stdout",
          "text": [
            "\u001b[1m1/1\u001b[0m \u001b[32m━━━━━━━━━━━━━━━━━━━━\u001b[0m\u001b[37m\u001b[0m \u001b[1m0s\u001b[0m 68ms/step\n",
            "Predicted Subreddit: GetMotivated\n"
          ]
        }
      ]
    },
    {
      "cell_type": "markdown",
      "source": [
        "##Pickel"
      ],
      "metadata": {
        "id": "EviejHdeGrLo"
      }
    },
    {
      "cell_type": "code",
      "source": [
        "import pickle\n",
        "from tensorflow.keras.models import load_model\n",
        "\n",
        "#Savetokenizer\n",
        "with open(\"tokenizer.pkl\", \"wb\") as f:\n",
        "    pickle.dump(tokenizer, f)\n",
        "\n",
        "#Save label encoder\n",
        "with open(\"label_encoder.pkl\", \"wb\") as f:\n",
        "    pickle.dump(label_encoder, f)\n",
        "\n",
        "#Save LSTM model in HDF5\n",
        "lstm_model.save(\"lstm_model.h5\")\n",
        "\n",
        "print(\"Tokenizer, LabelEncoder, and LSTM model saved!\")\n"
      ],
      "metadata": {
        "colab": {
          "base_uri": "https://localhost:8080/"
        },
        "id": "TrE3bsMHzJTG",
        "outputId": "66924f3f-b816-4b1e-d50f-769a8bb9fc6e"
      },
      "execution_count": 35,
      "outputs": [
        {
          "output_type": "stream",
          "name": "stderr",
          "text": [
            "WARNING:absl:You are saving your model as an HDF5 file via `model.save()` or `keras.saving.save_model(model)`. This file format is considered legacy. We recommend using instead the native Keras format, e.g. `model.save('my_model.keras')` or `keras.saving.save_model(model, 'my_model.keras')`. \n"
          ]
        },
        {
          "output_type": "stream",
          "name": "stdout",
          "text": [
            "Tokenizer, LabelEncoder, and LSTM model saved!\n"
          ]
        }
      ]
    },
    {
      "cell_type": "markdown",
      "source": [
        "##Gradio"
      ],
      "metadata": {
        "id": "ho0zF3_O8upm"
      }
    },
    {
      "cell_type": "code",
      "source": [
        "import gradio as gr\n",
        "\n",
        "\n",
        "#Load model and tools\n",
        "model = load_model(\"lstm_model.h5\")\n",
        "with open(\"tokenizer.pkl\", \"rb\") as f:\n",
        "    tokenizer = pickle.load(f)\n",
        "with open(\"label_encoder.pkl\", \"rb\") as f:\n",
        "    label_encoder = pickle.load(f)\n",
        "\n",
        "#Preprocessing\n",
        "def preprocess(text):\n",
        "    text = clean(text,\n",
        "                 fix_unicode=True, to_ascii=True, lower=True,\n",
        "                 no_urls=True, no_emails=True, no_phone_numbers=True,\n",
        "                 no_currency_symbols=True, no_punct=True)\n",
        "    tokens = word_tokenize(text)\n",
        "    tokens = [word for word in tokens if word not in stop_words and word not in string.punctuation]\n",
        "    return ' '.join(tokens)\n",
        "\n",
        "#Predict\n",
        "def predict_subreddit(post_text):\n",
        "    clean_text = preprocess(post_text)\n",
        "    seq = tokenizer.texts_to_sequences([clean_text])\n",
        "    padded = pad_sequences(seq, maxlen=100, padding='post')\n",
        "    pred = model.predict(padded)\n",
        "    class_idx = np.argmax(pred, axis=1)[0]\n",
        "    return label_encoder.inverse_transform([class_idx])[0]\n",
        "\n",
        "#Gradio Interface\n",
        "demo = gr.Interface(fn=predict_subreddit,\n",
        "                    inputs=gr.Textbox(lines=5, placeholder=\"Enter a Reddit post...\"),\n",
        "                    outputs=\"text\",\n",
        "                    title=\"Subreddit Post Classifier (LSTM)\",\n",
        "                    description=\"Paste a Reddit post and get predicted subreddit.\")\n",
        "\n",
        "demo.launch()\n"
      ],
      "metadata": {
        "colab": {
          "base_uri": "https://localhost:8080/",
          "height": 663
        },
        "id": "0yTqZpnf7nCO",
        "outputId": "92e0aa0c-ee70-4746-88c0-f9dd2ef16ba0"
      },
      "execution_count": 37,
      "outputs": [
        {
          "output_type": "stream",
          "name": "stderr",
          "text": [
            "WARNING:absl:Compiled the loaded model, but the compiled metrics have yet to be built. `model.compile_metrics` will be empty until you train or evaluate the model.\n"
          ]
        },
        {
          "output_type": "stream",
          "name": "stdout",
          "text": [
            "It looks like you are running Gradio on a hosted Jupyter notebook, which requires `share=True`. Automatically setting `share=True` (you can turn this off by setting `share=False` in `launch()` explicitly).\n",
            "\n",
            "Colab notebook detected. To show errors in colab notebook, set debug=True in launch()\n",
            "* Running on public URL: https://168e62980317cd14b5.gradio.live\n",
            "\n",
            "This share link expires in 1 week. For free permanent hosting and GPU upgrades, run `gradio deploy` from the terminal in the working directory to deploy to Hugging Face Spaces (https://huggingface.co/spaces)\n"
          ]
        },
        {
          "output_type": "display_data",
          "data": {
            "text/plain": [
              "<IPython.core.display.HTML object>"
            ],
            "text/html": [
              "<div><iframe src=\"https://168e62980317cd14b5.gradio.live\" width=\"100%\" height=\"500\" allow=\"autoplay; camera; microphone; clipboard-read; clipboard-write;\" frameborder=\"0\" allowfullscreen></iframe></div>"
            ]
          },
          "metadata": {}
        },
        {
          "output_type": "execute_result",
          "data": {
            "text/plain": []
          },
          "metadata": {},
          "execution_count": 37
        }
      ]
    }
  ]
}